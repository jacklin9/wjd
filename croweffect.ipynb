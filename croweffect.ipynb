{
 "cells": [
  {
   "cell_type": "code",
   "execution_count": 31,
   "metadata": {},
   "outputs": [],
   "source": [
    "import os\n",
    "\n",
    "working_dir = os.getcwd()\n",
    "\n",
    "n = working_dir.split(\"\\\\\")[-1].__len__()\n",
    "wd = working_dir[:-n]"
   ]
  },
  {
   "cell_type": "code",
   "execution_count": 32,
   "metadata": {},
   "outputs": [
    {
     "data": {
      "text/plain": [
       "'E:\\\\我的坚果云\\\\'"
      ]
     },
     "execution_count": 32,
     "metadata": {},
     "output_type": "execute_result"
    }
   ],
   "source": [
    "wd"
   ]
  },
  {
   "cell_type": "code",
   "execution_count": 26,
   "metadata": {},
   "outputs": [],
   "source": [
    "import sys\n",
    "sys.path.append(wd)\n",
    "from importlib import reload"
   ]
  },
  {
   "cell_type": "markdown",
   "metadata": {},
   "source": [
    "### 连接数据库，导入数据到数据库"
   ]
  },
  {
   "cell_type": "code",
   "execution_count": 27,
   "metadata": {},
   "outputs": [],
   "source": [
    "from ml_lib import jd_9n\n",
    "from ml_lib.jd_9n.db import condb\n",
    "from ml_lib.jd_9n.db.condb import *"
   ]
  },
  {
   "cell_type": "code",
   "execution_count": null,
   "metadata": {},
   "outputs": [],
   "source": [
    "config_filename"
   ]
  },
  {
   "cell_type": "code",
   "execution_count": null,
   "metadata": {},
   "outputs": [],
   "source": []
  },
  {
   "cell_type": "code",
   "execution_count": 29,
   "metadata": {},
   "outputs": [
    {
     "data": {
      "text/plain": [
       "\u001b[1;31mInit signature:\u001b[0m \u001b[0mMyPymysqlPool\u001b[0m\u001b[1;33m(\u001b[0m\u001b[0mconf_name\u001b[0m\u001b[1;33m=\u001b[0m\u001b[1;32mNone\u001b[0m\u001b[1;33m)\u001b[0m\u001b[1;33m\u001b[0m\u001b[0m\n",
       "\u001b[1;31mSource:\u001b[0m        \n",
       "\u001b[1;32mclass\u001b[0m \u001b[0mMyPymysqlPool\u001b[0m\u001b[1;33m(\u001b[0m\u001b[0mBasePymysqlPool\u001b[0m\u001b[1;33m)\u001b[0m\u001b[1;33m:\u001b[0m\u001b[1;33m\n",
       "\u001b[0m    \u001b[1;34m\"\"\"\n",
       "    MYSQL数据库对象，负责产生数据库连接 , 此类中的连接采用连接池实现获取连接对象：conn = Mysql.getConn()\n",
       "    释放连接对象;conn.close()或del conn\n",
       "    \"\"\"\u001b[0m\u001b[1;33m\n",
       "\u001b[0m    \u001b[1;31m# 连接池对象\u001b[0m\u001b[1;33m\n",
       "\u001b[0m    \u001b[0m__pool\u001b[0m \u001b[1;33m=\u001b[0m \u001b[1;32mNone\u001b[0m\u001b[1;33m\n",
       "\u001b[0m\u001b[1;33m\n",
       "\u001b[0m    \u001b[1;32mdef\u001b[0m \u001b[0m__init__\u001b[0m\u001b[1;33m(\u001b[0m\u001b[0mself\u001b[0m\u001b[1;33m,\u001b[0m \u001b[0mconf_name\u001b[0m\u001b[1;33m=\u001b[0m\u001b[1;32mNone\u001b[0m\u001b[1;33m,\u001b[0m \u001b[0mconfig_filename\u001b[0m\u001b[1;33m=\u001b[0m\u001b[1;34m\"config/main.conf\"\u001b[0m \u001b[1;33m)\u001b[0m\u001b[1;33m:\u001b[0m\u001b[1;33m\n",
       "\u001b[0m        \u001b[0mself\u001b[0m\u001b[1;33m.\u001b[0m\u001b[0mconf\u001b[0m \u001b[1;33m=\u001b[0m \u001b[0mConfig\u001b[0m\u001b[1;33m(\u001b[0m\u001b[0mconfig_filename\u001b[0m\u001b[1;33m)\u001b[0m\u001b[1;33m.\u001b[0m\u001b[0mget_content\u001b[0m\u001b[1;33m(\u001b[0m\u001b[0mconf_name\u001b[0m\u001b[1;33m)\u001b[0m\u001b[1;33m\n",
       "\u001b[0m        \u001b[0msuper\u001b[0m\u001b[1;33m(\u001b[0m\u001b[0mMyPymysqlPool\u001b[0m\u001b[1;33m,\u001b[0m \u001b[0mself\u001b[0m\u001b[1;33m)\u001b[0m\u001b[1;33m.\u001b[0m\u001b[0m__init__\u001b[0m\u001b[1;33m(\u001b[0m\u001b[1;33m**\u001b[0m\u001b[0mself\u001b[0m\u001b[1;33m.\u001b[0m\u001b[0mconf\u001b[0m\u001b[1;33m)\u001b[0m\u001b[1;33m\n",
       "\u001b[0m        \u001b[1;31m# 数据库构造函数，从连接池中取出连接，并生成操作游标\u001b[0m\u001b[1;33m\n",
       "\u001b[0m        \u001b[0mself\u001b[0m\u001b[1;33m.\u001b[0m\u001b[0m_conn\u001b[0m \u001b[1;33m=\u001b[0m \u001b[0mself\u001b[0m\u001b[1;33m.\u001b[0m\u001b[0m__getConn\u001b[0m\u001b[1;33m(\u001b[0m\u001b[1;33m)\u001b[0m\u001b[1;33m\n",
       "\u001b[0m        \u001b[0mself\u001b[0m\u001b[1;33m.\u001b[0m\u001b[0m_cursor\u001b[0m \u001b[1;33m=\u001b[0m \u001b[0mself\u001b[0m\u001b[1;33m.\u001b[0m\u001b[0m_conn\u001b[0m\u001b[1;33m.\u001b[0m\u001b[0mcursor\u001b[0m\u001b[1;33m(\u001b[0m\u001b[1;33m)\u001b[0m\u001b[1;33m\n",
       "\u001b[0m\u001b[1;33m\n",
       "\u001b[0m    \u001b[1;32mdef\u001b[0m \u001b[0m__getConn\u001b[0m\u001b[1;33m(\u001b[0m\u001b[0mself\u001b[0m\u001b[1;33m)\u001b[0m\u001b[1;33m:\u001b[0m\u001b[1;33m\n",
       "\u001b[0m        \u001b[1;34m\"\"\"\n",
       "        @summary: 静态方法，从连接池中取出连接\n",
       "        @return MySQLdb.connection\n",
       "        \"\"\"\u001b[0m\u001b[1;33m\n",
       "\u001b[0m        \u001b[1;32mglobal\u001b[0m \u001b[0m__pool\u001b[0m\u001b[1;33m\n",
       "\u001b[0m        \u001b[1;32mif\u001b[0m \u001b[0mMyPymysqlPool\u001b[0m\u001b[1;33m.\u001b[0m\u001b[0m__pool\u001b[0m \u001b[1;32mis\u001b[0m \u001b[1;32mNone\u001b[0m\u001b[1;33m:\u001b[0m\u001b[1;33m\n",
       "\u001b[0m            \u001b[0m__pool\u001b[0m \u001b[1;33m=\u001b[0m \u001b[0mPooledDB\u001b[0m\u001b[1;33m(\u001b[0m\u001b[0mcreator\u001b[0m\u001b[1;33m=\u001b[0m\u001b[0mpymysql\u001b[0m\u001b[1;33m,\u001b[0m\u001b[1;33m\n",
       "\u001b[0m                              \u001b[0mmincached\u001b[0m\u001b[1;33m=\u001b[0m\u001b[1;36m1\u001b[0m\u001b[1;33m,\u001b[0m\u001b[1;33m\n",
       "\u001b[0m                              \u001b[0mmaxcached\u001b[0m\u001b[1;33m=\u001b[0m\u001b[1;36m20\u001b[0m\u001b[1;33m,\u001b[0m\u001b[1;33m\n",
       "\u001b[0m                              \u001b[0mhost\u001b[0m\u001b[1;33m=\u001b[0m\u001b[0mself\u001b[0m\u001b[1;33m.\u001b[0m\u001b[0mdb_host\u001b[0m\u001b[1;33m,\u001b[0m\u001b[1;33m\n",
       "\u001b[0m                              \u001b[0mport\u001b[0m\u001b[1;33m=\u001b[0m\u001b[0mself\u001b[0m\u001b[1;33m.\u001b[0m\u001b[0mdb_port\u001b[0m\u001b[1;33m,\u001b[0m\u001b[1;33m\n",
       "\u001b[0m                              \u001b[0muser\u001b[0m\u001b[1;33m=\u001b[0m\u001b[0mself\u001b[0m\u001b[1;33m.\u001b[0m\u001b[0muser\u001b[0m\u001b[1;33m,\u001b[0m\u001b[1;33m\n",
       "\u001b[0m                              \u001b[0mpasswd\u001b[0m\u001b[1;33m=\u001b[0m\u001b[0mself\u001b[0m\u001b[1;33m.\u001b[0m\u001b[0mpassword\u001b[0m\u001b[1;33m,\u001b[0m\u001b[1;33m\n",
       "\u001b[0m                              \u001b[0mdb\u001b[0m\u001b[1;33m=\u001b[0m\u001b[0mself\u001b[0m\u001b[1;33m.\u001b[0m\u001b[0mdb\u001b[0m\u001b[1;33m,\u001b[0m\u001b[1;33m\n",
       "\u001b[0m                              \u001b[0muse_unicode\u001b[0m\u001b[1;33m=\u001b[0m\u001b[1;32mFalse\u001b[0m\u001b[1;33m,\u001b[0m\u001b[1;33m\n",
       "\u001b[0m                              \u001b[0mcharset\u001b[0m\u001b[1;33m=\u001b[0m\u001b[1;34m\"utf8\"\u001b[0m\u001b[1;33m,\u001b[0m\u001b[1;33m\n",
       "\u001b[0m                              \u001b[0mcursorclass\u001b[0m\u001b[1;33m=\u001b[0m\u001b[0mDictCursor\u001b[0m\u001b[1;33m)\u001b[0m\u001b[1;33m\n",
       "\u001b[0m        \u001b[1;32mreturn\u001b[0m \u001b[0m__pool\u001b[0m\u001b[1;33m.\u001b[0m\u001b[0mconnection\u001b[0m\u001b[1;33m(\u001b[0m\u001b[1;33m)\u001b[0m\u001b[1;33m\n",
       "\u001b[0m\u001b[1;33m\n",
       "\u001b[0m    \u001b[1;32mdef\u001b[0m \u001b[0mgetAll\u001b[0m\u001b[1;33m(\u001b[0m\u001b[0mself\u001b[0m\u001b[1;33m,\u001b[0m \u001b[0msql\u001b[0m\u001b[1;33m,\u001b[0m \u001b[0mparam\u001b[0m\u001b[1;33m=\u001b[0m\u001b[1;32mNone\u001b[0m\u001b[1;33m)\u001b[0m\u001b[1;33m:\u001b[0m\u001b[1;33m\n",
       "\u001b[0m        \u001b[1;34m\"\"\"\n",
       "        @summary: 执行查询，并取出所有结果集\n",
       "        @param sql:查询ＳＱＬ，如果有查询条件，请只指定条件列表，并将条件值使用参数[param]传递进来\n",
       "        @param param: 可选参数，条件列表值（元组/列表）（参数用占位符体现在sql语句中，所有类型都用 %s）\n",
       "        @return: result list(字典对象)/boolean 查询到的结果集\n",
       "        \"\"\"\u001b[0m\u001b[1;33m\n",
       "\u001b[0m        \u001b[1;32mif\u001b[0m \u001b[0mparam\u001b[0m \u001b[1;32mis\u001b[0m \u001b[1;32mNone\u001b[0m\u001b[1;33m:\u001b[0m\u001b[1;33m\n",
       "\u001b[0m            \u001b[0mcount\u001b[0m \u001b[1;33m=\u001b[0m \u001b[0mself\u001b[0m\u001b[1;33m.\u001b[0m\u001b[0m_cursor\u001b[0m\u001b[1;33m.\u001b[0m\u001b[0mexecute\u001b[0m\u001b[1;33m(\u001b[0m\u001b[0msql\u001b[0m\u001b[1;33m)\u001b[0m\u001b[1;33m\n",
       "\u001b[0m        \u001b[1;32melse\u001b[0m\u001b[1;33m:\u001b[0m\u001b[1;33m\n",
       "\u001b[0m            \u001b[0mcount\u001b[0m \u001b[1;33m=\u001b[0m \u001b[0mself\u001b[0m\u001b[1;33m.\u001b[0m\u001b[0m_cursor\u001b[0m\u001b[1;33m.\u001b[0m\u001b[0mexecute\u001b[0m\u001b[1;33m(\u001b[0m\u001b[0msql\u001b[0m\u001b[1;33m,\u001b[0m \u001b[0mparam\u001b[0m\u001b[1;33m)\u001b[0m\u001b[1;33m\n",
       "\u001b[0m        \u001b[1;32mif\u001b[0m \u001b[0mcount\u001b[0m \u001b[1;33m>\u001b[0m \u001b[1;36m0\u001b[0m\u001b[1;33m:\u001b[0m\u001b[1;33m\n",
       "\u001b[0m            \u001b[0mresult\u001b[0m \u001b[1;33m=\u001b[0m \u001b[0mself\u001b[0m\u001b[1;33m.\u001b[0m\u001b[0m_cursor\u001b[0m\u001b[1;33m.\u001b[0m\u001b[0mfetchall\u001b[0m\u001b[1;33m(\u001b[0m\u001b[1;33m)\u001b[0m\u001b[1;33m\n",
       "\u001b[0m        \u001b[1;32melse\u001b[0m\u001b[1;33m:\u001b[0m\u001b[1;33m\n",
       "\u001b[0m            \u001b[0mresult\u001b[0m \u001b[1;33m=\u001b[0m \u001b[1;32mFalse\u001b[0m\u001b[1;33m\n",
       "\u001b[0m        \u001b[1;32mreturn\u001b[0m \u001b[0mresult\u001b[0m\u001b[1;33m\n",
       "\u001b[0m\u001b[1;33m\n",
       "\u001b[0m    \u001b[1;32mdef\u001b[0m \u001b[0mgetOne\u001b[0m\u001b[1;33m(\u001b[0m\u001b[0mself\u001b[0m\u001b[1;33m,\u001b[0m \u001b[0msql\u001b[0m\u001b[1;33m,\u001b[0m \u001b[0mparam\u001b[0m\u001b[1;33m=\u001b[0m\u001b[1;32mNone\u001b[0m\u001b[1;33m)\u001b[0m\u001b[1;33m:\u001b[0m\u001b[1;33m\n",
       "\u001b[0m        \u001b[1;34m\"\"\"\n",
       "        @summary: 执行查询，并取出第一条\n",
       "        @param sql:查询ＳＱＬ，如果有查询条件，请只指定条件列表，并将条件值使用参数[param]传递进来\n",
       "        @param param: 可选参数，条件列表值（元组/列表）\n",
       "        @return: result list/boolean 查询到的结果集\n",
       "        \"\"\"\u001b[0m\u001b[1;33m\n",
       "\u001b[0m        \u001b[1;32mif\u001b[0m \u001b[0mparam\u001b[0m \u001b[1;32mis\u001b[0m \u001b[1;32mNone\u001b[0m\u001b[1;33m:\u001b[0m\u001b[1;33m\n",
       "\u001b[0m            \u001b[0mcount\u001b[0m \u001b[1;33m=\u001b[0m \u001b[0mself\u001b[0m\u001b[1;33m.\u001b[0m\u001b[0m_cursor\u001b[0m\u001b[1;33m.\u001b[0m\u001b[0mexecute\u001b[0m\u001b[1;33m(\u001b[0m\u001b[0msql\u001b[0m\u001b[1;33m)\u001b[0m\u001b[1;33m\n",
       "\u001b[0m        \u001b[1;32melse\u001b[0m\u001b[1;33m:\u001b[0m\u001b[1;33m\n",
       "\u001b[0m            \u001b[0mcount\u001b[0m \u001b[1;33m=\u001b[0m \u001b[0mself\u001b[0m\u001b[1;33m.\u001b[0m\u001b[0m_cursor\u001b[0m\u001b[1;33m.\u001b[0m\u001b[0mexecute\u001b[0m\u001b[1;33m(\u001b[0m\u001b[0msql\u001b[0m\u001b[1;33m,\u001b[0m \u001b[0mparam\u001b[0m\u001b[1;33m)\u001b[0m\u001b[1;33m\n",
       "\u001b[0m        \u001b[1;32mif\u001b[0m \u001b[0mcount\u001b[0m \u001b[1;33m>\u001b[0m \u001b[1;36m0\u001b[0m\u001b[1;33m:\u001b[0m\u001b[1;33m\n",
       "\u001b[0m            \u001b[0mresult\u001b[0m \u001b[1;33m=\u001b[0m \u001b[0mself\u001b[0m\u001b[1;33m.\u001b[0m\u001b[0m_cursor\u001b[0m\u001b[1;33m.\u001b[0m\u001b[0mfetchone\u001b[0m\u001b[1;33m(\u001b[0m\u001b[1;33m)\u001b[0m\u001b[1;33m\n",
       "\u001b[0m        \u001b[1;32melse\u001b[0m\u001b[1;33m:\u001b[0m\u001b[1;33m\n",
       "\u001b[0m            \u001b[0mresult\u001b[0m \u001b[1;33m=\u001b[0m \u001b[1;32mFalse\u001b[0m\u001b[1;33m\n",
       "\u001b[0m        \u001b[1;32mreturn\u001b[0m \u001b[0mresult\u001b[0m\u001b[1;33m\n",
       "\u001b[0m\u001b[1;33m\n",
       "\u001b[0m    \u001b[1;32mdef\u001b[0m \u001b[0mgetMany\u001b[0m\u001b[1;33m(\u001b[0m\u001b[0mself\u001b[0m\u001b[1;33m,\u001b[0m \u001b[0msql\u001b[0m\u001b[1;33m,\u001b[0m \u001b[0mnum\u001b[0m\u001b[1;33m,\u001b[0m \u001b[0mparam\u001b[0m\u001b[1;33m=\u001b[0m\u001b[1;32mNone\u001b[0m\u001b[1;33m)\u001b[0m\u001b[1;33m:\u001b[0m\u001b[1;33m\n",
       "\u001b[0m        \u001b[1;34m\"\"\"\n",
       "        @summary: 执行查询，并取出num条结果\n",
       "        @param sql:查询ＳＱＬ，如果有查询条件，请只指定条件列表，并将条件值使用参数[param]传递进来\n",
       "        @param num:取得的结果条数\n",
       "        @param param: 可选参数，条件列表值（元组/列表）\n",
       "        @return: result list/boolean 查询到的结果集\n",
       "        \"\"\"\u001b[0m\u001b[1;33m\n",
       "\u001b[0m        \u001b[1;32mif\u001b[0m \u001b[0mparam\u001b[0m \u001b[1;32mis\u001b[0m \u001b[1;32mNone\u001b[0m\u001b[1;33m:\u001b[0m\u001b[1;33m\n",
       "\u001b[0m            \u001b[0mcount\u001b[0m \u001b[1;33m=\u001b[0m \u001b[0mself\u001b[0m\u001b[1;33m.\u001b[0m\u001b[0m_cursor\u001b[0m\u001b[1;33m.\u001b[0m\u001b[0mexecute\u001b[0m\u001b[1;33m(\u001b[0m\u001b[0msql\u001b[0m\u001b[1;33m)\u001b[0m\u001b[1;33m\n",
       "\u001b[0m        \u001b[1;32melse\u001b[0m\u001b[1;33m:\u001b[0m\u001b[1;33m\n",
       "\u001b[0m            \u001b[0mcount\u001b[0m \u001b[1;33m=\u001b[0m \u001b[0mself\u001b[0m\u001b[1;33m.\u001b[0m\u001b[0m_cursor\u001b[0m\u001b[1;33m.\u001b[0m\u001b[0mexecute\u001b[0m\u001b[1;33m(\u001b[0m\u001b[0msql\u001b[0m\u001b[1;33m,\u001b[0m \u001b[0mparam\u001b[0m\u001b[1;33m)\u001b[0m\u001b[1;33m\n",
       "\u001b[0m        \u001b[1;32mif\u001b[0m \u001b[0mcount\u001b[0m \u001b[1;33m>\u001b[0m \u001b[1;36m0\u001b[0m\u001b[1;33m:\u001b[0m\u001b[1;33m\n",
       "\u001b[0m            \u001b[0mresult\u001b[0m \u001b[1;33m=\u001b[0m \u001b[0mself\u001b[0m\u001b[1;33m.\u001b[0m\u001b[0m_cursor\u001b[0m\u001b[1;33m.\u001b[0m\u001b[0mfetchmany\u001b[0m\u001b[1;33m(\u001b[0m\u001b[0mnum\u001b[0m\u001b[1;33m)\u001b[0m\u001b[1;33m\n",
       "\u001b[0m        \u001b[1;32melse\u001b[0m\u001b[1;33m:\u001b[0m\u001b[1;33m\n",
       "\u001b[0m            \u001b[0mresult\u001b[0m \u001b[1;33m=\u001b[0m \u001b[1;32mFalse\u001b[0m\u001b[1;33m\n",
       "\u001b[0m        \u001b[1;32mreturn\u001b[0m \u001b[0mresult\u001b[0m\u001b[1;33m\n",
       "\u001b[0m\u001b[1;33m\n",
       "\u001b[0m    \u001b[1;32mdef\u001b[0m \u001b[0minsertMany\u001b[0m\u001b[1;33m(\u001b[0m\u001b[0mself\u001b[0m\u001b[1;33m,\u001b[0m \u001b[0msql\u001b[0m\u001b[1;33m,\u001b[0m \u001b[0mvalues\u001b[0m\u001b[1;33m)\u001b[0m\u001b[1;33m:\u001b[0m\u001b[1;33m\n",
       "\u001b[0m        \u001b[1;34m\"\"\"\n",
       "        @summary: 向数据表插入多条记录\n",
       "        @param sql:要插入的ＳＱＬ格式\n",
       "        @param values:要插入的记录数据tuple(tuple)/list[list]\n",
       "        @return: count 受影响的行数\n",
       "        \"\"\"\u001b[0m\u001b[1;33m\n",
       "\u001b[0m        \u001b[0mcount\u001b[0m \u001b[1;33m=\u001b[0m \u001b[0mself\u001b[0m\u001b[1;33m.\u001b[0m\u001b[0m_cursor\u001b[0m\u001b[1;33m.\u001b[0m\u001b[0mexecutemany\u001b[0m\u001b[1;33m(\u001b[0m\u001b[0msql\u001b[0m\u001b[1;33m,\u001b[0m \u001b[0mvalues\u001b[0m\u001b[1;33m)\u001b[0m\u001b[1;33m\n",
       "\u001b[0m        \u001b[1;32mreturn\u001b[0m \u001b[0mcount\u001b[0m\u001b[1;33m\n",
       "\u001b[0m\u001b[1;33m\n",
       "\u001b[0m    \u001b[1;32mdef\u001b[0m \u001b[0m__query\u001b[0m\u001b[1;33m(\u001b[0m\u001b[0mself\u001b[0m\u001b[1;33m,\u001b[0m \u001b[0msql\u001b[0m\u001b[1;33m,\u001b[0m \u001b[0mparam\u001b[0m\u001b[1;33m=\u001b[0m\u001b[1;32mNone\u001b[0m\u001b[1;33m)\u001b[0m\u001b[1;33m:\u001b[0m\u001b[1;33m\n",
       "\u001b[0m        \u001b[1;31m# __query会不允许外部调用\u001b[0m\u001b[1;33m\n",
       "\u001b[0m        \u001b[1;32mif\u001b[0m \u001b[0mparam\u001b[0m \u001b[1;32mis\u001b[0m \u001b[1;32mNone\u001b[0m\u001b[1;33m:\u001b[0m\u001b[1;33m\n",
       "\u001b[0m            \u001b[0mcount\u001b[0m \u001b[1;33m=\u001b[0m \u001b[0mself\u001b[0m\u001b[1;33m.\u001b[0m\u001b[0m_cursor\u001b[0m\u001b[1;33m.\u001b[0m\u001b[0mexecute\u001b[0m\u001b[1;33m(\u001b[0m\u001b[0msql\u001b[0m\u001b[1;33m)\u001b[0m\u001b[1;33m\n",
       "\u001b[0m        \u001b[1;32melse\u001b[0m\u001b[1;33m:\u001b[0m\u001b[1;33m\n",
       "\u001b[0m            \u001b[0mcount\u001b[0m \u001b[1;33m=\u001b[0m \u001b[0mself\u001b[0m\u001b[1;33m.\u001b[0m\u001b[0m_cursor\u001b[0m\u001b[1;33m.\u001b[0m\u001b[0mexecute\u001b[0m\u001b[1;33m(\u001b[0m\u001b[0msql\u001b[0m\u001b[1;33m,\u001b[0m \u001b[0mparam\u001b[0m\u001b[1;33m)\u001b[0m\u001b[1;33m\n",
       "\u001b[0m        \u001b[1;32mreturn\u001b[0m \u001b[0mcount\u001b[0m\u001b[1;33m\n",
       "\u001b[0m\u001b[1;33m\n",
       "\u001b[0m    \u001b[1;32mdef\u001b[0m \u001b[0mupdate\u001b[0m\u001b[1;33m(\u001b[0m\u001b[0mself\u001b[0m\u001b[1;33m,\u001b[0m \u001b[0msql\u001b[0m\u001b[1;33m,\u001b[0m \u001b[0mparam\u001b[0m\u001b[1;33m=\u001b[0m\u001b[1;32mNone\u001b[0m\u001b[1;33m)\u001b[0m\u001b[1;33m:\u001b[0m\u001b[1;33m\n",
       "\u001b[0m        \u001b[1;34m\"\"\"\n",
       "        @summary: 更新数据表记录\n",
       "        @param sql: ＳＱＬ格式及条件，使用(%s,%s)\n",
       "        @param param: 要更新的  值 tuple/list\n",
       "        @return: count 受影响的行数\n",
       "        \"\"\"\u001b[0m\u001b[1;33m\n",
       "\u001b[0m        \u001b[1;32mreturn\u001b[0m \u001b[0mself\u001b[0m\u001b[1;33m.\u001b[0m\u001b[0m__query\u001b[0m\u001b[1;33m(\u001b[0m\u001b[0msql\u001b[0m\u001b[1;33m,\u001b[0m \u001b[0mparam\u001b[0m\u001b[1;33m)\u001b[0m\u001b[1;33m\n",
       "\u001b[0m\u001b[1;33m\n",
       "\u001b[0m    \u001b[1;32mdef\u001b[0m \u001b[0minsert\u001b[0m\u001b[1;33m(\u001b[0m\u001b[0mself\u001b[0m\u001b[1;33m,\u001b[0m \u001b[0msql\u001b[0m\u001b[1;33m,\u001b[0m \u001b[0mparam\u001b[0m\u001b[1;33m=\u001b[0m\u001b[1;32mNone\u001b[0m\u001b[1;33m)\u001b[0m\u001b[1;33m:\u001b[0m\u001b[1;33m\n",
       "\u001b[0m        \u001b[1;34m\"\"\"\n",
       "        @summary: 更新数据表记录\n",
       "        @param sql: ＳＱＬ格式及条件，使用(%s,%s)\n",
       "        @param param: 要更新的  值 tuple/list\n",
       "        @return: count 受影响的行数\n",
       "        \"\"\"\u001b[0m\u001b[1;33m\n",
       "\u001b[0m        \u001b[1;32mreturn\u001b[0m \u001b[0mself\u001b[0m\u001b[1;33m.\u001b[0m\u001b[0m__query\u001b[0m\u001b[1;33m(\u001b[0m\u001b[0msql\u001b[0m\u001b[1;33m,\u001b[0m \u001b[0mparam\u001b[0m\u001b[1;33m)\u001b[0m\u001b[1;33m\n",
       "\u001b[0m\u001b[1;33m\n",
       "\u001b[0m    \u001b[1;32mdef\u001b[0m \u001b[0mdelete\u001b[0m\u001b[1;33m(\u001b[0m\u001b[0mself\u001b[0m\u001b[1;33m,\u001b[0m \u001b[0msql\u001b[0m\u001b[1;33m,\u001b[0m \u001b[0mparam\u001b[0m\u001b[1;33m=\u001b[0m\u001b[1;32mNone\u001b[0m\u001b[1;33m)\u001b[0m\u001b[1;33m:\u001b[0m\u001b[1;33m\n",
       "\u001b[0m        \u001b[1;34m\"\"\"\n",
       "        @summary: 删除数据表记录\n",
       "        @param sql: ＳＱＬ格式及条件，使用(%s,%s)\n",
       "        @param param: 要删除的条件 值 tuple/list\n",
       "        @return: count 受影响的行数\n",
       "        \"\"\"\u001b[0m\u001b[1;33m\n",
       "\u001b[0m        \u001b[1;32mreturn\u001b[0m \u001b[0mself\u001b[0m\u001b[1;33m.\u001b[0m\u001b[0m__query\u001b[0m\u001b[1;33m(\u001b[0m\u001b[0msql\u001b[0m\u001b[1;33m,\u001b[0m \u001b[0mparam\u001b[0m\u001b[1;33m)\u001b[0m\u001b[1;33m\n",
       "\u001b[0m\u001b[1;33m\n",
       "\u001b[0m    \u001b[1;32mdef\u001b[0m \u001b[0mbegin\u001b[0m\u001b[1;33m(\u001b[0m\u001b[0mself\u001b[0m\u001b[1;33m)\u001b[0m\u001b[1;33m:\u001b[0m\u001b[1;33m\n",
       "\u001b[0m        \u001b[1;34m\"\"\"\n",
       "        @summary: 开启事务\n",
       "        \"\"\"\u001b[0m\u001b[1;33m\n",
       "\u001b[0m        \u001b[0mself\u001b[0m\u001b[1;33m.\u001b[0m\u001b[0m_conn\u001b[0m\u001b[1;33m.\u001b[0m\u001b[0mautocommit\u001b[0m\u001b[1;33m(\u001b[0m\u001b[1;36m0\u001b[0m\u001b[1;33m)\u001b[0m\u001b[1;33m\n",
       "\u001b[0m\u001b[1;33m\n",
       "\u001b[0m    \u001b[1;32mdef\u001b[0m \u001b[0mend\u001b[0m\u001b[1;33m(\u001b[0m\u001b[0mself\u001b[0m\u001b[1;33m,\u001b[0m \u001b[0moption\u001b[0m\u001b[1;33m=\u001b[0m\u001b[1;34m'commit'\u001b[0m\u001b[1;33m)\u001b[0m\u001b[1;33m:\u001b[0m\u001b[1;33m\n",
       "\u001b[0m        \u001b[1;34m\"\"\"\n",
       "        @summary: 结束事务\n",
       "        \"\"\"\u001b[0m\u001b[1;33m\n",
       "\u001b[0m        \u001b[1;32mif\u001b[0m \u001b[0moption\u001b[0m \u001b[1;33m==\u001b[0m \u001b[1;34m'commit'\u001b[0m\u001b[1;33m:\u001b[0m\u001b[1;33m\n",
       "\u001b[0m            \u001b[0mself\u001b[0m\u001b[1;33m.\u001b[0m\u001b[0m_conn\u001b[0m\u001b[1;33m.\u001b[0m\u001b[0mcommit\u001b[0m\u001b[1;33m(\u001b[0m\u001b[1;33m)\u001b[0m\u001b[1;33m\n",
       "\u001b[0m        \u001b[1;32melse\u001b[0m\u001b[1;33m:\u001b[0m\u001b[1;33m\n",
       "\u001b[0m            \u001b[0mself\u001b[0m\u001b[1;33m.\u001b[0m\u001b[0m_conn\u001b[0m\u001b[1;33m.\u001b[0m\u001b[0mrollback\u001b[0m\u001b[1;33m(\u001b[0m\u001b[1;33m)\u001b[0m\u001b[1;33m\n",
       "\u001b[0m\u001b[1;33m\n",
       "\u001b[0m    \u001b[1;32mdef\u001b[0m \u001b[0mdispose\u001b[0m\u001b[1;33m(\u001b[0m\u001b[0mself\u001b[0m\u001b[1;33m,\u001b[0m \u001b[0misEnd\u001b[0m\u001b[1;33m=\u001b[0m\u001b[1;36m1\u001b[0m\u001b[1;33m)\u001b[0m\u001b[1;33m:\u001b[0m\u001b[1;33m\n",
       "\u001b[0m        \u001b[1;34m\"\"\"\n",
       "        @summary: 释放连接池资源\n",
       "        \"\"\"\u001b[0m\u001b[1;33m\n",
       "\u001b[0m        \u001b[1;32mif\u001b[0m \u001b[0misEnd\u001b[0m \u001b[1;33m==\u001b[0m \u001b[1;36m1\u001b[0m\u001b[1;33m:\u001b[0m\u001b[1;33m\n",
       "\u001b[0m            \u001b[0mself\u001b[0m\u001b[1;33m.\u001b[0m\u001b[0mend\u001b[0m\u001b[1;33m(\u001b[0m\u001b[1;34m'commit'\u001b[0m\u001b[1;33m)\u001b[0m\u001b[1;33m\n",
       "\u001b[0m        \u001b[1;32melse\u001b[0m\u001b[1;33m:\u001b[0m\u001b[1;33m\n",
       "\u001b[0m            \u001b[0mself\u001b[0m\u001b[1;33m.\u001b[0m\u001b[0mend\u001b[0m\u001b[1;33m(\u001b[0m\u001b[1;34m'rollback'\u001b[0m\u001b[1;33m)\u001b[0m\u001b[1;33m\n",
       "\u001b[0m        \u001b[0mself\u001b[0m\u001b[1;33m.\u001b[0m\u001b[0m_cursor\u001b[0m\u001b[1;33m.\u001b[0m\u001b[0mclose\u001b[0m\u001b[1;33m(\u001b[0m\u001b[1;33m)\u001b[0m\u001b[1;33m\n",
       "\u001b[0m        \u001b[0mself\u001b[0m\u001b[1;33m.\u001b[0m\u001b[0m_conn\u001b[0m\u001b[1;33m.\u001b[0m\u001b[0mclose\u001b[0m\u001b[1;33m(\u001b[0m\u001b[1;33m)\u001b[0m\u001b[1;33m\u001b[0m\u001b[0m\n",
       "\u001b[1;31mFile:\u001b[0m           e:\\我的坚果云\\ml_lib\\jd_9n\\db\\condb.py\n",
       "\u001b[1;31mType:\u001b[0m           type\n"
      ]
     },
     "metadata": {},
     "output_type": "display_data"
    }
   ],
   "source": [
    "??MyPymysqlPool"
   ]
  },
  {
   "cell_type": "code",
   "execution_count": 30,
   "metadata": {},
   "outputs": [
    {
     "ename": "TypeError",
     "evalue": "__init__() got an unexpected keyword argument 'config_filename'",
     "output_type": "error",
     "traceback": [
      "\u001b[1;31m---------------------------------------------------------------------------\u001b[0m",
      "\u001b[1;31mTypeError\u001b[0m                                 Traceback (most recent call last)",
      "\u001b[1;32m<ipython-input-30-c9ccfe9bfa0f>\u001b[0m in \u001b[0;36m<module>\u001b[1;34m()\u001b[0m\n\u001b[1;32m----> 1\u001b[1;33m \u001b[0mconn\u001b[0m \u001b[1;33m=\u001b[0m \u001b[0mMyPymysqlPool\u001b[0m\u001b[1;33m(\u001b[0m\u001b[1;34m'mysql'\u001b[0m\u001b[1;33m,\u001b[0m \u001b[0mconfig_filename\u001b[0m\u001b[1;33m=\u001b[0m\u001b[1;34m'main2.conf'\u001b[0m\u001b[1;33m)\u001b[0m\u001b[1;33m\u001b[0m\u001b[0m\n\u001b[0m",
      "\u001b[1;31mTypeError\u001b[0m: __init__() got an unexpected keyword argument 'config_filename'"
     ]
    }
   ],
   "source": [
    "conn = MyPymysqlPool('mysql', config_filename='main2.conf')"
   ]
  },
  {
   "cell_type": "code",
   "execution_count": 4,
   "metadata": {},
   "outputs": [],
   "source": [
    "import codecs"
   ]
  },
  {
   "cell_type": "code",
   "execution_count": 12,
   "metadata": {},
   "outputs": [],
   "source": [
    "import os\n",
    "import sys\n",
    "import codecs\n",
    "import chardet\n",
    "#from subFunc_tools import *\n",
    "\n",
    "import chardet"
   ]
  },
  {
   "cell_type": "code",
   "execution_count": 16,
   "metadata": {},
   "outputs": [
    {
     "data": {
      "text/plain": [
       "['cfdq-20190604至20190626DMP-单元明细-汇总数据-20190630183747.csv']"
      ]
     },
     "execution_count": 16,
     "metadata": {},
     "output_type": "execute_result"
    }
   ],
   "source": [
    "os.listdir('京准通导出数据/2/')"
   ]
  },
  {
   "cell_type": "code",
   "execution_count": 17,
   "metadata": {},
   "outputs": [],
   "source": [
    "filePath = '京准通导出数据/2/cfdq-20190604至20190626DMP-单元明细-汇总数据-20190630183747.csv'"
   ]
  },
  {
   "cell_type": "code",
   "execution_count": 18,
   "metadata": {},
   "outputs": [],
   "source": [
    "def convert(file, in_enc=\"GBK\", out_enc=\"UTF-8\"):\n",
    "    \"\"\"\n",
    "    该程序用于将目录下的文件从指定格式转换到指定格式，默认的是GBK转到utf-8\n",
    "    :param file:    文件路径\n",
    "    :param in_enc:  输入文件格式\n",
    "    :param out_enc: 输出文件格式\n",
    "    :return:\n",
    "    \"\"\"\n",
    "    in_enc = in_enc.upper()\n",
    "    out_enc = out_enc.upper()\n",
    "    try:\n",
    "        print(\"convert [ \" + file.split('\\\\')[-1] + \" ].....From \" + in_enc + \" --> \" + out_enc )\n",
    "        f = codecs.open(file, 'r', in_enc)\n",
    "        new_content = f.read()\n",
    "        codecs.open(file, 'w', out_enc).write(new_content)\n",
    "    # print (f.read())\n",
    "    except IOError as err:\n",
    "        print(\"I/O error: {0}\".format(err))\n",
    " "
   ]
  },
  {
   "cell_type": "code",
   "execution_count": 19,
   "metadata": {},
   "outputs": [
    {
     "name": "stdout",
     "output_type": "stream",
     "text": [
      "convert [ 京准通导出数据/2/cfdq-20190604至20190626DMP-单元明细-汇总数据-20190630183747.csv ].....From GB2312 --> UTF-8\n"
     ]
    }
   ],
   "source": [
    "with open(filePath, \"rb\") as f:\n",
    "    data = f.read()\n",
    "    codeType = chardet.detect(data)['encoding']\n",
    "    convert(filePath, codeType, 'UTF-8')"
   ]
  },
  {
   "cell_type": "code",
   "execution_count": null,
   "metadata": {},
   "outputs": [],
   "source": []
  },
  {
   "cell_type": "code",
   "execution_count": null,
   "metadata": {},
   "outputs": [],
   "source": [
    "#将路径下面的所有文件，从原来的格式变为UTF-8的格式\n",
    "if __name__ == \"__main__\":\n",
    "    path = r'D:\\Code_Sources\\Python_PyCharm\\convert_GBK_UTF-8\\test_txt'\n",
    "    (list_folders, list_files) = list_folders_files(path)\n",
    "\n",
    "    print(\"Path: \" + path)\n",
    "    for fileName in list_files:\n",
    "        filePath = path + '\\\\' + fileName\n",
    "        with open(filePath, \"rb\") as f:\n",
    "            data = f.read()\n",
    "            codeType = chardet.detect(data)['encoding']\n",
    "            convert(filePath, codeType, 'UTF-8')"
   ]
  },
  {
   "cell_type": "code",
   "execution_count": null,
   "metadata": {},
   "outputs": [],
   "source": []
  },
  {
   "cell_type": "code",
   "execution_count": null,
   "metadata": {},
   "outputs": [],
   "source": []
  },
  {
   "cell_type": "code",
   "execution_count": 14,
   "metadata": {},
   "outputs": [],
   "source": [
    "import requests"
   ]
  },
  {
   "cell_type": "code",
   "execution_count": 15,
   "metadata": {},
   "outputs": [],
   "source": [
    "response = requests.get(\"https://jzt.jd.com/dmp/crowdEffect.html\")"
   ]
  },
  {
   "cell_type": "code",
   "execution_count": 19,
   "metadata": {},
   "outputs": [],
   "source": [
    "import requests\n",
    "import urllib\n",
    "import random\n",
    "from datetime import datetime"
   ]
  },
  {
   "cell_type": "code",
   "execution_count": 20,
   "metadata": {},
   "outputs": [],
   "source": [
    "import http.cookiejar as cookielib"
   ]
  },
  {
   "cell_type": "code",
   "execution_count": null,
   "metadata": {},
   "outputs": [],
   "source": [
    "https://passport.jd.com/common/loginPage?from=jzt&ReturnUrl=https://jzt.jd.com/gw/"
   ]
  },
  {
   "cell_type": "code",
   "execution_count": 22,
   "metadata": {},
   "outputs": [],
   "source": [
    "import sys\n",
    "import io\n",
    "from urllib import request\n",
    "\n",
    "#sys.stdout = io.TextIOWrapper(sys.stdout.buffer,encoding='utf8') #改变标准输出的默认编码\n",
    "\n",
    "#登录后才能访问的网站\n",
    "url = 'https://jzt.jd.com/dmp/crowdEffect.html'"
   ]
  },
  {
   "cell_type": "code",
   "execution_count": 24,
   "metadata": {},
   "outputs": [
    {
     "name": "stdout",
     "output_type": "stream",
     "text": [
      "<!DOCTYPE html>\n",
      "<html lang=\"en\">\n",
      "<head>\n",
      "    <meta charset=\"UTF-8\">\n",
      "    <title>DMP-人群效果</title>\n",
      "    <link rel='stylesheet' href='assets/css/jad.css'>\n",
      "    <script src=\"//static-alias-1.360buyimg.com/jzt/common/js/monitor/webMonitor-v1.2.js\"></script><script type='text/javascript' src='/public/js/head-new.js'></script><script type='text/javascript' src='assets/js/lib/g2.js'></script><script type='text/javascript' src='assets/js/lib/dataSet.js'></script>\n",
      "    <link rel='shortcut icon' href='./favicon.ico'>\n",
      "    <script>\n",
      "        printHeader((window.location.protocol + '//' + window.location.host) || \"//jzt.jd.com\")\n",
      "    </script>\n",
      "<link href=\"assets/css/common.css\" rel=\"stylesheet\"></head>\n",
      "<body>\n",
      "<div id=\"app\"></div>\n",
      "\n",
      "<script type=\"text/javascript\" src=\"dll/vendor.2b4c20f7581ea4af6a38.js\"></script>\n",
      "<script type=\"text/javascript\">\n",
      "    var jaq = jaq || [];\n",
      "    jaq.push(['account','JA2016_113525']);\n",
      "    jaq.push(['domain','jzt.jd.com']);\n",
      "    jaq.push(['topic','traffic-oth']); //topic\n",
      "    (function() {\n",
      "    var ja = document.createElement('script'); ja.type = 'text/javascript'; ja.async = true;\n",
      "    ja.src = ('https:' == document.location.protocol ? 'https://wlssl' : 'http://wl') + '.jd.com/joya.js';\n",
      "    var s = document.getElementsByTagName('script')[0]; s.parentNode.insertBefore(ja,s);\n",
      "    })();\n",
      "</script>\n",
      "<script>\n",
      "    !!window.FEM && FEM.init({\n",
      "        product_name: 'jzt-dmp'\n",
      "    });\n",
      "</script>\n",
      "<script type=\"text/javascript\" src=\"assets/js/crowdEffect-13e06f8b.js\"></script></body>\n",
      "</html>\n"
     ]
    }
   ],
   "source": [
    "req = request.Request(url)\n",
    "#设置cookie\n",
    "req.add_header('cookie', cookie_str)\n",
    "#设置请求头\n",
    "req.add_header('User-Agent', 'Mozilla/5.0 (Windows NT 6.1; WOW64) AppleWebKit/537.36 (KHTML, like Gecko) Chrome/60.0.3112.113 Safari/537.36')\n",
    "\n",
    "resp = request.urlopen(req)\n",
    "\n",
    "print(resp.read().decode('utf-8'))"
   ]
  },
  {
   "cell_type": "code",
   "execution_count": 25,
   "metadata": {},
   "outputs": [
    {
     "data": {
      "text/plain": [
       "http.client.HTTPResponse"
      ]
     },
     "execution_count": 25,
     "metadata": {},
     "output_type": "execute_result"
    }
   ],
   "source": [
    "type(resp)"
   ]
  },
  {
   "cell_type": "code",
   "execution_count": null,
   "metadata": {},
   "outputs": [],
   "source": []
  },
  {
   "cell_type": "code",
   "execution_count": 31,
   "metadata": {},
   "outputs": [],
   "source": [
    "import requests\n",
    "import sys\n",
    "import io\n",
    "\n",
    "#sys.stdout = io.TextIOWrapper(sys.stdout.buffer,encoding='utf8') #改变标准输出的默认编码\n",
    "\n",
    "#登录后才能访问的网页\n",
    "url = 'https://jzt.jd.com/dmp/crowdEffect.html'\n",
    "\n",
    "\n",
    "#浏览器登录后得到的cookie，也就是刚才复制的字符串\n",
    "#浏览器登录后得到的cookie，也就是刚才复制的字符串\n",
    "cookie_str = 'dmpLabelId=a85c5f19-3093-4de7-aa3d-4ee1afcfefa0; __jdu=15508474859711279801410; shshshfpa=b0111318-79e5-1973-9185-2a0ea0a8cb42-1553704918; shshshfpb=nUeZXs0tjnu%20FotiIl3lO0Q%3D%3D; shshshfp=d93bf462810ec90946aa9d573cb2380b; cid=NXVLODcyNnhVMTcyN2dDMjM4OGNZMDkyMXNGNjUyMndXNTUwM2dWOTM2NGtNMzc0; __jdv=95931165|direct|-|none|-|1561385446475; TrackID=1qt0K9Wrl8eD16xz23Q1UPejeTiwsx73doI56L5OKDz2ndVajb4Z2M-BGSHOyZ_0NUFR-jNF0Pd7aYQF6RwI445J8r75Pm_LMFdfv_tIiOwI; pinId=_K4QRiemQlx9ao2-6idyxw; pin=midea-bx3; unick=%E5%96%B5yongyan; _tp=1jXmZh0o5qsDu%2B1yr4Q%2FAw%3D%3D; _pst=midea-bx3; clientlanguage=zh_CN; 3AB9D23F7A4B3C9B=JFA4ZSW7JNRLEMTHWVGNXLRMHPMSKYBSHL2CZED4HECEJ4HLXORJC6OCZYXMEEQHYW2S35CIXNTCTN2ANVSJUHQPZI; pin=midea-bx3; loginInfo={\"jx\":1,\"kuaiche\":1,\"huangpu\":0,\"pin\":\"midea-bx3\",\"zt\":1,\"weathervane\":1,\"userSubType\":1012,\"ka\":0,\"is_main\":0,\"userType\":7}; thor=8686EA24EBFF822988672454ECF0B07FE5509C4F87301CAC1C6DD59A8C13E0618E134D7C3DB9B78A2779265235B5C3E00A64BEDB5621C2F144D2D2174ED609BE8E641BA1E04FBC5BD48FBD7DED8115B5D0105F6D318487C6A8CA83E61C719AAE4F433BBA00691D6B350E02EC6435AC7DD93089BE3DFC82068EA5FBB10BA9D1A923115A4903EB7C4897CF260600DCF951; JSESSIONID=C04B96755D911E11158A4046066C5C1D.s1; __jdc=146207855; __jda=146207855.15508474859711279801410.1550847486.1561880938.1561887756.46; __jdb=146207855.1.15508474859711279801410|46.1561887756'\n",
    "\n",
    "#把cookie字符串处理成字典，以便接下来使用\n",
    "cookies = {}\n",
    "for line in cookie_str.split(';'):\n",
    "    key, value = line.split('=', 1)\n",
    "    cookies[key] = value\n",
    "\n",
    "#设置请求头\n",
    "headers = {'User-agent':'Mozilla/5.0 (Windows NT 6.1; WOW64) AppleWebKit/537.36 (KHTML, like Gecko) Chrome/60.0.3112.113 Safari/537.36'}\n",
    "\n",
    "#在发送get请求时带上请求头和cookies\n",
    "resp = requests.get(url, headers = headers, cookies = cookies)\n",
    "        \n",
    "#print(resp.content.decode('utf-8'))"
   ]
  },
  {
   "cell_type": "code",
   "execution_count": 33,
   "metadata": {},
   "outputs": [],
   "source": [
    "from bs4 import BeautifulSoup"
   ]
  },
  {
   "cell_type": "code",
   "execution_count": null,
   "metadata": {},
   "outputs": [],
   "source": []
  },
  {
   "cell_type": "code",
   "execution_count": null,
   "metadata": {},
   "outputs": [],
   "source": [
    "import requests\n",
    "import sys\n",
    "import io\n",
    "\n",
    "sys.stdout = io.TextIOWrapper(sys.stdout.buffer,encoding='utf8') #改变标准输出的默认编码\n",
    "\n",
    "\n",
    "\n",
    "#把cookie字符串处理成字典，以便接下来使用\n",
    "cookies = {}\n",
    "for line in cookie_str.split(';'):\n",
    "    key, value = line.split('=', 1)\n",
    "    cookies[key] = value\n",
    "    \n",
    "    \n",
    "    \n",
    "    \n",
    "    \n",
    "    "
   ]
  },
  {
   "cell_type": "code",
   "execution_count": null,
   "metadata": {},
   "outputs": [],
   "source": []
  },
  {
   "cell_type": "code",
   "execution_count": null,
   "metadata": {},
   "outputs": [],
   "source": [
    "huihuSession = requests.session()\n",
    "# 因为原始的session.cookies 没有save()方法，所以需要用到cookielib中的方法LWPCookieJar，这个类实例化的cookie对象，就可以直接调用save方法。\n",
    "huihuSession.cookies = cookielib.LWPCookieJar(filename =\"cookie.txt\")\n",
    " \n",
    "userAgent = \"Mozilla/5.0 (Windows NT 10.0; WOW64) AppleWebKit/537.36 (KHTML, like Gecko) Chrome/66.0.3359.181 Safari/537.36\"\n",
    "header = {\n",
    "    # \"origin\": \"https://passport.huihu.cn\",\n",
    "    \"Referer\": \"https://jzt.jd.com/gw/?\",\n",
    "    'User-Agent': userAgent,\n",
    "}\n",
    " \n",
    "def huihuLogin(account, password):\n",
    "    #\n",
    "    print (\"开始模拟登录嘻嘻嘻\")\n",
    " \n",
    "    postUrl = \"http://hh.haiper.com.cn/w/wander/user/login/\"\n",
    "    postData = {\n",
    "        \"username\": account,\n",
    "        \"password\": password,\n",
    "    }\n",
    "     \n",
    "    # 使用session直接post请求\n",
    "    responseRes = huihuSession.post(postUrl, data = postData, headers = header)\n",
    "    # 无论是否登录成功，状态码一般都是 statusCode = 200   \n",
    "    #responseRes = requests.post(postUrl, data = postData, headers = header)\n",
    "    # 无论是否登录成功，状态码一般都是 statusCode = 200\n",
    "    print(f\"statusCode = {responseRes.status_code}\")\n",
    "    #print(f\"text = {responseRes.text}\")\n",
    "    huihuSession.cookies.save()\n",
    "def isLoginStatus():\n",
    "    # 通过访问个人中心页面的返回状态码来判断是否为登录状态\n",
    "    for i in range(2131,2134):\n",
    "        routeUrl = \"http://hh.haiper.com.cn/w/bench/extend/health/trade/all?nickname=&type=&gender=&level=&range%5Bstart%5D=2014-11-11+14%3A57&range%5Bend%5D=2018-06-06+14%3A57&page=\"+str(i)\n",
    "         \n",
    "    # 下面有两个关键点\n",
    "        # 第一个是header，如果不设置，会返回500的错误\n",
    "        # 第二个是allow_redirects，如果不设置，session访问时，服务器返回302，\n",
    "        # 然后session会自动重定向到登录页面，获取到登录页面之后，变成200的状态码\n",
    "        # allow_redirects = False  就是不允许重定向\n",
    "        try:\n",
    "            responseRes = huihuSession.get(routeUrl, headers = header, allow_redirects = False)\n",
    "            result = responseRes.text\n",
    "        except:\n",
    "            continue\n",
    "        start = result.find('<div class=\"form-control-static form-control-static-list\">')\n",
    "        result = result[start:]\n",
    "        #print (result)\n",
    "        for j in range(1,16):\n",
    "            start = result.find('擦擦擦图片')\n",
    "            if start==-1:\n",
    "                break\n",
    "            else:\n",
    "                result = result[start:]\n",
    "                start = result.find('src=\"')\n",
    "                result = result[start+5:]\n",
    "                end = result.find('\" class=\"img-rounded\"')\n",
    "                imgpath = result[:end]\n",
    "                print (imgpath)\n",
    "                if imgpath=='/attachment/':\n",
    "                    continue\n",
    "                randomname = datetime.now().strftime(\"%Y%m%d_%H%M%S\") + str(random.randint(1,100))+'.jpg'\n",
    "                try:\n",
    "                    urllib.request.urlretrieve(imgpath,'./擦擦擦/'+randomname)\n",
    "                except:\n",
    "                    continue\n",
    "        print (i)\n",
    "    print(f\"isLoginStatus = {responseRes.status_code}\")\n",
    "        #print(f\"text = {responseRes.text}\")\n",
    "    if responseRes.status_code != 200:\n",
    "        return False\n",
    "    else:\n",
    "        return True\n",
    "if __name__ == \"__main__\":\n",
    "    # 从返回结果来看，有登录成功\n",
    "    huihuLogin(\"xxxx\", \"xxxx\")\n",
    "    isLogin1 = isLoginStatus()\n",
    "    print(f\"is login huihu = {isLogin1}\")"
   ]
  },
  {
   "cell_type": "code",
   "execution_count": null,
   "metadata": {},
   "outputs": [],
   "source": []
  },
  {
   "cell_type": "code",
   "execution_count": 18,
   "metadata": {},
   "outputs": [
    {
     "data": {
      "text/plain": [
       "b'<!DOCTYPE html>\\n<html lang=\"en\">\\n<head>\\n\\t<meta charset=\"UTF-8\">\\n\\t<meta name=\"baidu-site-verification\" content=\"8fW5XztN4R\" />\\n\\t\\t<title>\\xe4\\xba\\xac\\xe4\\xb8\\x9c\\xe5\\xb9\\xbf\\xe5\\x91\\x8a\\xe8\\x81\\x94\\xe7\\x9b\\x9f_\\xe6\\x95\\xb0\\xe5\\xad\\x97\\xe8\\x90\\xa5\\xe9\\x94\\x80\\xe6\\x8e\\xa8\\xe5\\xb9\\xbf\\xe5\\xb9\\xb3\\xe5\\x8f\\xb0_\\xe4\\xba\\xac\\xe4\\xb8\\x9c\\xe5\\xb9\\xbf\\xe5\\x91\\x8a\\xe6\\x8a\\x95\\xe6\\x94\\xbe\\xe5\\xb9\\xb3\\xe5\\x8f\\xb0-\\xe4\\xba\\xac\\xe5\\x87\\x86\\xe9\\x80\\x9a\\xe5\\xae\\x98\\xe7\\xbd\\x91</title>\\n\\t<meta http-equiv=\"keywords\" content=\"\\xe5\\xb9\\xbf\\xe5\\x91\\x8a\\xe6\\x8a\\x95\\xe6\\x94\\xbe\\xef\\xbc\\x8c\\xe7\\xb2\\xbe\\xe5\\x87\\x86\\xe5\\xb9\\xbf\\xe5\\x91\\x8a\\xef\\xbc\\x8cDSP\\xe5\\xb9\\xbf\\xe5\\x91\\x8a\\xef\\xbc\\x8cCPS\\xe5\\xb9\\xbf\\xe5\\x91\\x8a\\xef\\xbc\\x8cCPC\\xe5\\xb9\\xbf\\xe5\\x91\\x8a\\xef\\xbc\\x8c \\xe4\\xba\\xac\\xe5\\x87\\x86\\xe9\\x80\\x9a\\xe5\\xae\\x98\\xe7\\xbd\\x91\"/>\\n\\t<meta http-equiv=\"description\" content=\"\\xe4\\xba\\xac\\xe5\\x87\\x86\\xe9\\x80\\x9a-\\xe4\\xba\\xac\\xe4\\xb8\\x9c\\xe9\\x9b\\x86\\xe5\\x9b\\xa2\\xe6\\x97\\x97\\xe4\\xb8\\x8b\\xe6\\x95\\xb0\\xe5\\xad\\x97\\xe8\\x90\\xa5\\xe9\\x94\\x80\\xe6\\x8e\\xa8\\xe5\\xb9\\xbf\\xe5\\xb9\\xb3\\xe5\\x8f\\xb0\\xef\\xbc\\x8c\\xe4\\xb8\\xba\\xe5\\xae\\xa2\\xe6\\x88\\xb7\\xe6\\x8f\\x90\\xe4\\xbe\\x9b\\xef\\xbc\\x8c\\xe7\\xb2\\xbe\\xe5\\x87\\x86\\xe5\\xb9\\xbf\\xe5\\x91\\x8a\\xe6\\x8a\\x95\\xe6\\x94\\xbe\\xe3\\x80\\x81\\xe5\\xb9\\xbf\\xe5\\x91\\x8a\\xe8\\x81\\x94\\xe7\\x9b\\x9f\\xe6\\x8e\\xa8\\xe5\\xb9\\xbf\\xe3\\x80\\x81DSP\\xe5\\xb9\\xbf\\xe5\\x91\\x8a\\xe3\\x80\\x81CPS\\xe5\\xb9\\xbf\\xe5\\x91\\x8a\\xe3\\x80\\x81CPC\\xe5\\xb9\\xbf\\xe5\\x91\\x8a\\xe7\\xad\\x89\\xe9\\xab\\x98\\xe6\\x95\\x88\\xe7\\x9a\\x84\\xe4\\xb8\\x80\\xe4\\xbd\\x93\\xe5\\x8c\\x96\\xe8\\x90\\xa5\\xe9\\x94\\x80\\xe8\\xa7\\xa3\\xe5\\x86\\xb3\\xe6\\x96\\xb9\\xe6\\xa1\\x88\\xef\\xbc\\x8c\\xe5\\xb8\\xae\\xe5\\x8a\\xa9\\xe5\\xae\\xa2\\xe6\\x88\\xb7\\xe5\\xae\\x9e\\xe7\\x8e\\xb0\\xe8\\x90\\xa5\\xe9\\x94\\x80\\xe6\\x95\\x88\\xe6\\x9e\\x9c\\xe7\\x9a\\x84\\xe6\\x9c\\x80\\xe5\\xa4\\xa7\\xe5\\x8c\\x96\\xe3\\x80\\x82\"/>\\n\\n\\n<link rel=\"stylesheet\" href=\"/gw/r/cms/www/www_new/css/public.dev.css\">\\n<link rel=\"stylesheet\" href=\"/gw/r/cms/www/www_new/css/djk.css\">\\n  <link rel=\"stylesheet\" href=\"/gw/r/cms/www/www_new/css/font.css\">\\n  \\n   <script type=\"text/javascript\" src=\"/gw/r/cms/www/www_new/js/jquery.js\"></script>\\n  <script type=\"text/javascript\" src=\"/gw/r/cms/www/www_new/js/bootstrap.min.js\"></script>\\n  <script type=\"text/javascript\" src=\"/gw/r/cms/www/www_new/js/html5shiv.js\"></script>\\n  <script type=\"text/javascript\" src=\"/gw/r/cms/jquery.cookie.js\"></script>\\n  \\n  <script src=\"/gw/r/cms/front.js\" type=\"text/javascript\"></script>\\n  \\n  \\n  \\n<script type=\"text/javascript\">\\n$(function() {\\n\\t  Cms.siteFlow(\"/gw\",location.href, document.referrer);\\n\\t});\\n</script>\\n  <script type=\"text/javascript\">\\n  base=\"/gw\";\\n</script>\\n\\n\\n</head>\\n<body>\\n\\n\\n<script type=\"text/javascript\" src=\"/gw/r/cms/www/www_new/js/ScrollPic.js\"></script>\\n\\n<script type=\"text/javascript\">\\n    $(function(){\\n\\n    });\\n</script>\\n<!-- \\xe5\\x89\\xaf\\xe5\\xaf\\xbc\\xe8\\x88\\xaa -->\\n\\n<div class=\"logowrap\"  >\\n<div class=\"wrapper\">\\n    <dl>\\n            <dd><a href=\"//jzt.jd.com/study/charging/index.jhtml\" class=\"nav-tr\" target=\"_blank\">\\xe5\\xb8\\xae\\xe5\\x8a\\xa9\\xe4\\xb8\\xad\\xe5\\xbf\\x83</a></dd>\\n      <dd>\\n        <a href=\"javascript:void(0);\" target=\"_blank\" class=\"nav-tr\">\\xe8\\x90\\xa5\\xe9\\x94\\x80\\xe4\\xba\\xa7\\xe5\\x93\\x81<span class=\"icon-arrowB ml5\"></span></a>\\n        <div class=\"proList\">\\n          <a href=\"//jzt.jd.com/gw/jdkchome/index.jhtml\" target=\"_blank\">\\xe4\\xba\\xac\\xe4\\xb8\\x9c\\xe5\\xbf\\xab\\xe8\\xbd\\xa6</a>\\n          <!--  <a href=\"\">\\xe4\\xba\\xac\\xe4\\xb8\\x9c\\xe7\\x9b\\xb4\\xe6\\x8a\\x95</a>-->\\n          <a href=\"//jzt.jd.com/gw/jxzwhome/index.jhtml\" target=\"_blank\">\\xe4\\xba\\xac\\xe9\\x80\\x89\\xe5\\xb1\\x95\\xe4\\xbd\\x8d</a>\\n          <a href=\"//jzt.jd.com/gw/jtkhome/index.jhtml\" target=\"_blank\">\\xe4\\xba\\xac\\xe6\\x8c\\x91\\xe5\\xae\\xa2</a>\\n          <!--<a href=\"//jzt.jd.com/gw/dmphome/index.jhtml\">DMP</a>-->\\n        </div>\\n      </dd>\\n      <dd><a href=\"//jzt.jd.com/study/\" target=\"_blank\" class=\"nav-tr\">\\xe5\\x9c\\xa8\\xe7\\xba\\xbf\\xe5\\xad\\xa6\\xe4\\xb9\\xa0</a></dd>\\n      <dd><a href=\"//jzt.jd.com/gw/kcenter/html/home.html\" target=\"_blank\"  class=\"nav-tr\">\\xe4\\xbd\\x93\\xe9\\xaa\\x8c\\xe4\\xb8\\xad\\xe5\\xbf\\x83</a></dd>\\n    </dl>\\n  </div>  \\n  </div>\\n  <!-- END nav -->\\n  \\n    <!-- END nav -->\\n <div class=\"gw-box-inside\">\\n   \\n    <div class=\"loginBoxGw\" style=\"display: none;\">\\n    <h3 class=\"pb-tit\">\\xe7\\x99\\xbb\\xe5\\xbd\\x95\\xe4\\xba\\xac\\xe4\\xb8\\x9c\\xe8\\xb4\\xa6\\xe5\\x8f\\xb7</h3>\\n    <a href=\"//reg.jd.com/reg/person?ReturnUrl=http%3A%2F%2Fjzt.jd.com%2F\" target=\"_blank\" class=\"link-reg\">\\xe6\\x88\\x91\\xe8\\xa6\\x81\\xe6\\xb3\\xa8\\xe5\\x86\\x8c></a>\\n    <iframe src=\"//passport.jd.com/common/loginPage?from=jzt&ReturnUrl=https://jzt.jd.com/dmp/crowdEffect.html\" style=\"width: 360px;height: 260px;\" scrolling=\"no\" frameborder=\"0\"></iframe>\\n </div>\\n <div class=\"locateBox\" style=\"display: none;\">\\n  <div class=\"icon-avatar\"></div>\\n  <p class=\"account-info\">Hi~<span></span></p>\\n  <p class=\"locate-content\">\\xe6\\xac\\xa2\\xe8\\xbf\\x8e\\xe5\\x85\\xa5\\xe9\\xa9\\xbb\\xe4\\xba\\xac\\xe5\\x87\\x86\\xe9\\x80\\x9a\\xef\\xbc\\x8c\\xe5\\xbc\\x80\\xe5\\x90\\xaf\\xe6\\x82\\xa8\\xe7\\x9a\\x84\\xe8\\x90\\xa5\\xe9\\x94\\x80\\xe6\\x8e\\xa8\\xe5\\xb9\\xbf\\xe4\\xb9\\x8b\\xe6\\x97\\x85</p>\\n  <a href=\"#\" class=\"button\"></a>\\n  <div class=\"logout-btn\">\\n    <a href=\"//jzt.jd.com/gw/logout.jspx\" target=\"_blank\" class=\"nav-tl\">\\xe9\\x80\\x80\\xe5\\x87\\xba\\xe8\\xb4\\xa6\\xe6\\x88\\xb7</a>\\n  </div>\\n </div>\\n <div class=\"alertBox\" style=\"display: none;\">\\n  <div class=\"icon-avatar\"></div>\\n  <p class=\"account-info\">Hi~<span></span></p>\\n  <div class=\"alert-content\">\\n  </div>\\n  <div class=\"logout-btn\">\\n    <a href=\"//jzt.jd.com/gw/logout.jspx\" target=\"_blank\" class=\"nav-tl\">\\xe9\\x80\\x80\\xe5\\x87\\xba\\xe8\\xb4\\xa6\\xe6\\x88\\xb7</a>\\n  </div>\\n </div>\\n <div class=\"unLogAlertBox\" style=\"display: none;\">\\n  <div class=\"icon-avatar\"></div>\\n  <p class=\"account-info\">Hi~<span></span></p>\\n  <p class=\"locate-content\">\\xe6\\xac\\xa2\\xe8\\xbf\\x8e\\xe5\\x9b\\x9e\\xe6\\x9d\\xa5\\xef\\xbc\\x81\\xe5\\xbc\\x80\\xe5\\x90\\xaf\\xe6\\x82\\xa8\\xe7\\x9a\\x84\\xe8\\x90\\xa5\\xe9\\x94\\x80\\xe6\\x8e\\xa8\\xe5\\xb9\\xbf\\xe4\\xb9\\x8b\\xe6\\x97\\x85</p>\\n  <a href=\"http://jzt.jd.com\" class=\"button\">\\xe7\\xab\\x8b\\xe5\\x8d\\xb3\\xe6\\x8e\\xa8\\xe5\\xb9\\xbf</a>\\n  <div class=\"logout-btn\">\\n    <a href=\"//jzt.jd.com/gw/logout.jspx\" target=\"_blank\" class=\"nav-tl\">\\xe9\\x80\\x80\\xe5\\x87\\xba\\xe8\\xb4\\xa6\\xe6\\x88\\xb7</a>\\n  </div>\\n </div>\\n</div>\\n \\n <input name=\"returnurl_name\" type=\"hidden\" id=\"returnurl_id\" readonly=\"readonly\" value=\"https://jzt.jd.com/dmp/crowdEffect.html\">\\n <input name=\"pin_name\" type=\"hidden\" id=\"pin_id\" readonly=\"readonly\" value=\"\">\\n <script>\\n  function GetRequest() {  \\n    var url = location.search; //\\xe8\\x8e\\xb7\\xe5\\x8f\\x96url\\xe4\\xb8\\xad\"?\"\\xe7\\xac\\xa6\\xe5\\x90\\x8e\\xe7\\x9a\\x84\\xe5\\xad\\x97\\xe4\\xb8\\xb2\\n    var theRequest = new Object();  \\n    if (url.indexOf(\"?\") != -1) {  \\n        var str = url.substr(1);  \\n        strs = str.split(\"&\");  \\n        for(var i = 0; i < strs.length; i ++) {  \\n          theRequest[strs[i].split(\"=\")[0]]=unescape(strs[i].split(\"=\")[1]);  \\n        }  \\n    }  \\n    return theRequest;  \\n  } \\n  var queryParams = GetRequest();\\n  var code = queryParams.code;\\n  var htmlCode = \\'\\';\\n  var isGw = location.pathname == \\'/gw/\\'\\n $(function(){\\n\\n pin_name= $(\"#pin_id\").val();\\n if(!(pin_name == \\'\\' || pin_name==null) && isGw){  \\n  if (code == -100) {\\n    $(\\'.loginBoxGw\\').css(\\'display\\', \\'block\\');\\n  } else if (code == -200) {\\n    $(\\'.locateBox a.button\\').html(\\'\\xe7\\xab\\x8b\\xe5\\x8d\\xb3\\xe5\\x85\\xa5\\xe9\\xa9\\xbb\\')\\n    $(\\'.locateBox a.button\\').attr(\\'href\\', \\'http://dl-jzt.jd.com/dl/chooseUserType\\');\\n    $(\\'.locateBox\\').css(\\'display\\', \\'block\\');\\n  } else if (code == -201) {\\n    $(\\'.locateBox a.button\\').html(\\'\\xe7\\xab\\x8b\\xe5\\x8d\\xb3\\xe6\\x8e\\xa8\\xe5\\xb9\\xbf\\')\\n    $(\\'.locateBox a.button\\').attr(\\'href\\', \\'http://jzt.jd.com/agree\\');\\n    $(\\'.locateBox\\').css(\\'display\\', \\'block\\');\\n  } else if (code == -202) {\\n    htmlCode = \\'<p>\\xe8\\x8b\\xa5\\xe6\\x82\\xa8\\xe6\\x98\\xaf\\xe4\\xbe\\x9b\\xe5\\xba\\x94\\xe5\\x95\\x86\\xef\\xbc\\x8c\\xe8\\xaf\\xb7\\xe8\\x81\\x94\\xe7\\xb3\\xbb\\xe9\\x87\\x87\\xe9\\x94\\x80\\xe7\\xbb\\x91\\xe5\\xae\\x9a\\xe4\\xbe\\x9b\\xe5\\xba\\x94\\xe5\\x95\\x86\\xe7\\xae\\x80\\xe7\\xa0\\x81\\xe5\\x8d\\xb3\\xe5\\x8f\\xaf\\xe4\\xbd\\xbf\\xe7\\x94\\xa8\\xe4\\xba\\xac\\xe5\\x87\\x86\\xe9\\x80\\x9a\\xe3\\x80\\x82</p>\\' +\\n      \\'<p>\\xe8\\x8b\\xa5\\xe6\\x82\\xa8\\xe7\\x9a\\x84\\xe5\\x93\\x81\\xe7\\x89\\x8c\\xe5\\xb7\\xb2\\xe5\\x85\\xa5\\xe9\\xa9\\xbb\\xe4\\xba\\xac\\xe5\\x87\\x86\\xe9\\x80\\x9a\\xef\\xbc\\x8c\\xe5\\x8f\\xaf\\xe4\\xbd\\xbf\\xe7\\x94\\xa8\\xe5\\xb7\\xb2\\xe5\\x85\\xa5\\xe9\\xa9\\xbb\\xe8\\xb4\\xa6\\xe5\\x8f\\xb7\\xe5\\x9c\\xa8\\xe4\\xba\\xac\\xe5\\x87\\x86\\xe9\\x80\\x9a\\xe5\\xb9\\xb3\\xe5\\x8f\\xb0\\xe7\\xbb\\x91\\xe5\\xae\\x9a\\xe5\\x85\\xb6\\xe4\\xbb\\x96\\xe8\\xb4\\xa6\\xe5\\x8f\\xb7\\xef\\xbc\\x8c\\xe5\\x8d\\xb3\\xe5\\x8f\\xaf\\xe4\\xbd\\xbf\\xe7\\x94\\xa8\\xe3\\x80\\x82</p>\\' +\\n      \\'<p>\\xe8\\x8b\\xa5\\xe6\\x82\\xa8\\xe6\\x98\\xaf\\xe6\\x96\\xb0\\xe7\\x94\\xa8\\xe6\\x88\\xb7\\xef\\xbc\\x8c\\xe8\\xaf\\xb7<a href=\"http://dl-jzt.jd.com/dl/account/settle/branding?aType=2\">\\xe5\\x85\\xa5\\xe9\\xa9\\xbb\\xe4\\xba\\xac\\xe5\\x87\\x86\\xe9\\x80\\x9a></a></p>\\'\\n    $(\\'.alertBox .alert-content\\').html(htmlCode);\\n    $(\\'.alertBox\\').css(\\'display\\', \\'block\\');\\n  } else if (code == -203) {\\n    htmlCode = \\'<p>\\xe8\\xaf\\xa5\\xe8\\xb4\\xa6\\xe5\\x8f\\xb7\\xe5\\xb7\\xb2\\xe7\\xbb\\x8f\\xe8\\xa2\\xab\\xe4\\xb8\\xbb\\xe8\\xb4\\xa6\\xe5\\x8f\\xb7\\xe5\\x81\\x9c\\xe7\\x94\\xa8\\xef\\xbc\\x8c\\xe8\\x8b\\xa5\\xe9\\x9c\\x80\\xe8\\xa6\\x81\\xe7\\xbb\\xa7\\xe7\\xbb\\xad\\xe4\\xbd\\xbf\\xe7\\x94\\xa8\\xef\\xbc\\x8c\\xe8\\xaf\\xb7\\xe4\\xb8\\xbb\\xe8\\xb4\\xa6\\xe5\\x8f\\xb7\\xe5\\x9c\\xa8\\xe6\\x88\\x91\\xe7\\x9a\\x84\\xe8\\xb4\\xa6\\xe6\\x88\\xb7-\\xe8\\xb4\\xa6\\xe6\\x88\\xb7\\xe7\\xae\\xa1\\xe5\\xae\\xb6\\xe9\\x87\\x8c\\xe5\\x90\\xaf\\xe7\\x94\\xa8\\xe3\\x80\\x82</p>\\';\\n    $(\\'.alertBox .alert-content\\').html(htmlCode);\\n    $(\\'.alertBox\\').css(\\'display\\', \\'block\\');\\n  } else if (code == -204) {\\n    htmlCode = \\'<p>\\xe4\\xbb\\xa3\\xe7\\x90\\x86\\xe5\\xad\\x90\\xe8\\xb4\\xa6\\xe5\\x8f\\xb7\\xe7\\x94\\xa8\\xe4\\xba\\x8e\\xe4\\xbb\\xa3\\xe7\\x90\\x86\\xef\\xbc\\x8c\\xe6\\x9c\\xaa\\xe6\\x8e\\x88\\xe6\\x9d\\x83\\xe4\\xbb\\xa3\\xe7\\x90\\x86\\xe5\\x95\\x86\\xef\\xbc\\x8c\\xe4\\xb8\\x8d\\xe8\\x83\\xbd\\xe7\\x99\\xbb\\xe5\\xbd\\x95\\xe3\\x80\\x82</p>\\';\\n    $(\\'.alertBox .alert-content\\').html(htmlCode);\\n    $(\\'.alertBox\\').css(\\'display\\', \\'block\\');\\n  } else if (code == -205) {\\n    htmlCode = \\'<p>\\xe6\\xb2\\xa1\\xe6\\x9c\\x89\\xe4\\xba\\xac\\xe5\\x87\\x86\\xe9\\x80\\x9a\\xe6\\x9d\\x83\\xe9\\x99\\x90\\xef\\xbc\\x8c\\xe5\\xa6\\x82\\xe9\\x9c\\x80\\xe4\\xbd\\xbf\\xe7\\x94\\xa8\\xe8\\xaf\\xb7\\xe8\\x81\\x94\\xe7\\xb3\\xbb\\xe5\\xb8\\x82\\xe5\\x9c\\xba\\xe8\\x90\\xa5\\xe9\\x94\\x80\\xe4\\xb8\\x9a\\xe5\\x8a\\xa1\\xe9\\x83\\xa8 <a href=\"mailto:ad@jd.com\">ad@jd.com</a> \\xe3\\x80\\x82</p>\\';\\n    $(\\'.alertBox .alert-content\\').html(htmlCode);\\n    $(\\'.alertBox\\').css(\\'display\\', \\'block\\');\\n  } else if (code == undefined) {\\n    $(\\'.unLogAlertBox\\').css(\\'display\\', \\'block\\');\\n  } \\n }else {\\n   if (code == undefined && isGw) {\\n    $(\\'.loginBoxGw\\').css(\\'display\\', \\'block\\');\\n  }\\n }\\n\\n }); \\n\\n  // var isLogin = $.cookie(\\'pin\\');\\n </script>\\n <script type=\"text/javascript\">\\n$(function() {\\n    //$(\".plat-l a\").click(function() {\\n        //$(this).siblings().removeClass().end().addClass(\"plat-on\");\\n        //var index = $(this).index();\\n        //$(\".plat-r>div\").hide().eq(index).show();\\n    //});\\n    \\n    \\n    // \\xe6\\xbb\\x9a\\xe8\\xbf\\x87\\xe4\\xb8\\x80\\xe5\\xae\\x9a\\xe8\\xb7\\x9d\\xe7\\xa6\\xbb\\xef\\xbc\\x8c\\xe4\\xba\\xa7\\xe5\\x93\\x81\\xe5\\x88\\x86\\xe7\\xb1\\xbb\\xe5\\x90\\xb8\\xe9\\xa1\\xb6\\n    $(window).scroll(function(){\\n        var st = document.documentElement.scrollTop || window.pageYOffset || document.body.scrollTop;\\n        if(st>80){\\n            $(\".logowrap\").css({\"position\":\"fixed\",\"z-index\":\"999\",\"top\":\"0px\",\"width\": \"100%\"});\\n        }else{\\n            $(\".logowrap\").css(\"position\", \"relative\");\\n        }\\n    }); \\n});\\n</script>\\n<!-- \\xe5\\x89\\xaf\\xe5\\xaf\\xbc\\xe8\\x88\\xaa end-->\\n<!-- \\xe4\\xb8\\xbb\\xe5\\xaf\\xbc\\xe8\\x88\\xaa -->\\n<div class=\"wrapper-head relative\">\\n\\t<div class=\"wrapper-con hidden\">\\n\\t\\t<!-- <a class=\"logo\" href=\"//jzt.jd.com/gw/\" target=\"_blank\"></a> -->\\n\\t\\t<h1>\\n\\t\\t<a class=\"logo\" href=\"//jzt.jd.com/gw/\" target=\"_blank\" title=\"CPS\\xe5\\xb9\\xbf\\xe5\\x91\\x8a_CPS\\xe5\\xb9\\xbf\\xe5\\x91\\x8a_CPM\\xe5\\xb9\\xbf\\xe5\\x91\\x8a_\\xe4\\xba\\xac\\xe4\\xb8\\x9c\\xe5\\xb9\\xbf\\xe5\\x91\\x8a\\xe6\\x8a\\x95\\xe6\\x94\\xbe\\xe5\\xb9\\xb3\\xe5\\x8f\\xb0\" alt=\"CPS\\xe5\\xb9\\xbf\\xe5\\x91\\x8a_CPS\\xe5\\xb9\\xbf\\xe5\\x91\\x8a_CPM\\xe5\\xb9\\xbf\\xe5\\x91\\x8a_\\xe4\\xba\\xac\\xe4\\xb8\\x9c\\xe5\\xb9\\xbf\\xe5\\x91\\x8a\\xe6\\x8a\\x95\\xe6\\x94\\xbe\\xe5\\xb9\\xb3\\xe5\\x8f\\xb0\"><img src=\"/gw/r/cms/www/www_new/img/logo.jpg\"></a></h1>\\n\\t\\t<a class=\"logo1\" href=\"//jzt.jd.com/gw/\"></a>\\n\\t\\t<!-- \\xe5\\xaf\\xbc\\xe8\\x88\\xaa\\xe6\\x9d\\xa1\\xe5\\xbc\\x80\\xe5\\xa7\\x8b -->\\n\\t\\t<div class=\"wrapper-nav\">\\n<ul>\\n\\t\\t        <li class=\" cur\">\\n\\t\\t          <a href=\"https://jzt.jd.com/gw/\">\\xe9\\xa6\\x96\\xe9\\xa1\\xb5</a>\\n\\t\\t        </li>\\n\\t\\t        <li class=\"\">\\n\\t\\t          <a href=\"http://jzt.jd.com/gw/platformadvantage.htm\">\\xe5\\xb9\\xb3\\xe5\\x8f\\xb0\\xe4\\xbb\\x8b\\xe7\\xbb\\x8d</a>\\n\\t\\t        </li>\\n\\t\\t        <li class=\"\">\\n\\t\\t          <a href=\"https://jzt.jd.com/gw/case/index.html\">\\xe6\\xa1\\x88\\xe4\\xbe\\x8b\\xe5\\x88\\x86\\xe4\\xba\\xab</a>\\n\\t\\t        </li>\\n\\t\\t        <li class=\"\">\\n\\t\\t          <a href=\"https://jzt.jd.com/gw/news/index.html\">\\xe8\\xb5\\x84\\xe8\\xae\\xaf</a>\\n\\t\\t        </li>\\n\\t\\t        <li class=\" \">\\n\\t\\t          <a href=\"http://agency.jd.com\" target=\\'_blank\\'>\\xe4\\xba\\xac\\xe7\\x89\\x8c\\xe4\\xbb\\xa3\\xe7\\x90\\x86</a>\\n\\t\\t        </li>\\n\\t\\t        <li class=\"\">\\n\\t\\t          <a href=\"https://jzt.jd.com/gw/teamintroduction.jhtml\">\\xe5\\x85\\xb3\\xe4\\xba\\x8e\\xe6\\x88\\x91\\xe4\\xbb\\xac</a>\\n\\t\\t        </li>\\n        \\n</ul>\\t\\t</div>\\n\\t\\t<!-- \\xe5\\xaf\\xbc\\xe8\\x88\\xaa\\xe6\\x9d\\xa1\\xe7\\xbb\\x93\\xe6\\x9d\\x9f -->\\n\\t</div>\\n</div>\\n\\n\\n<!-- \\xe8\\xbf\\x94\\xe5\\x9b\\x9e\\xe9\\xa1\\xb6\\xe9\\x83\\xa8 -->\\n<div class=\"back-top\" id=\"back-top\" style=\"display: inline-block;\"></div>\\n\\n<!-- \\xe8\\xbd\\xae\\xe6\\x92\\xad\\xe5\\x9b\\xbe -->\\n<script type=\"text/javascript\">\\n    $(function() {\\n        //\\xe8\\xbd\\xae\\xe6\\x92\\xad\\xe5\\x9b\\xbe\\n        var intervalId = null;\\n        var tab_count = $(\".slide-circle li\").length;  //\\xe9\\x80\\x89\\xe9\\xa1\\xb9\\xe5\\x8d\\xa1\\xe6\\x80\\xbb\\xe6\\x95\\xb0\\n        slide();\\n\\n        function slide() {\\n            intervalId = setInterval(function() {\\n                var index = $(\".slide-circle\").find(\"li.cur\").index() + 1;\\n                var length1 = $(\".slide-circle ul\").children(\\'li\\').length;\\n                var length = length1 || 6;\\n                if (index >= length) index = 0;\\n                $(\".slide-tu li\").hide().eq(index).show();\\n                $(\".slide-circle li\").removeClass(\\'cur\\').eq(index).addClass(\\'cur\\');\\n            }, 3000);\\n        }\\n        //\\xe5\\x9c\\x86\\xe7\\x82\\xb9hover\\xe4\\xba\\x8b\\xe4\\xbb\\xb6\\n        $(\".slide-circle li\").hover(function() {\\n            //\\xe6\\x9a\\x82\\xe5\\x81\\x9c\\xe8\\xbd\\xae\\xe6\\x92\\xad\\n            clearInterval(intervalId);\\n            var index = $(this).index();\\n            $(this).siblings().removeClass(\\'cur\\').end().addClass(\\'cur\\');\\n            $(\".slide-tu li\").hide().eq(index).show();\\n        }, function() {\\n            //\\xe7\\xbb\\xa7\\xe7\\xbb\\xad\\xe8\\xbd\\xae\\xe6\\x92\\xad\\n            slide();\\n        });\\n\\n        //\\xe5\\x9b\\xbe\\xe7\\x89\\x87hover\\xe4\\xba\\x8b\\xe4\\xbb\\xb6\\n        $(\".slide-tu li\").hover(function() {\\n            clearInterval(intervalId);\\n        }, function() {\\n            //\\xe7\\xbb\\xa7\\xe7\\xbb\\xad\\xe8\\xbd\\xae\\xe6\\x92\\xad\\n            slide();\\n        });\\n\\n        // \\xe9\\xbc\\xa0\\xe6\\xa0\\x87\\xe8\\xa7\\xa6\\xe7\\xa2\\xb0\\xe8\\xbd\\xae\\xe6\\x92\\xad\\xe5\\x9b\\xbe\\xef\\xbc\\x8c\\xe5\\xb7\\xa6\\xe5\\x8f\\xb3\\xe7\\xae\\xad\\xe5\\xa4\\xb4\\xe6\\x98\\xbe\\xe7\\xa4\\xba\\n        $(\\'.module-slide\\').mouseover(function() {\\n            $(\\'.slide-btn\\').css(\\'opacity\\',\\'1\\');\\n        }).mouseout(function() {\\n            $(\\'.slide-btn\\').css(\\'opacity\\',\\'0\\');\\n        });\\n\\n        //\\xe5\\xb7\\xa6\\xe5\\x8f\\xb3\\xe7\\xae\\xad\\xe5\\xa4\\xb4hover\\xe4\\xba\\x8b\\xe4\\xbb\\xb6\\xef\\xbc\\x8c\\xe4\\xbb\\xa5\\xe5\\x8f\\x8aclick\\xe4\\xba\\x8b\\xe4\\xbb\\xb6\\n        $(\".slide-btn a\").hover(function() {\\n            clearInterval(intervalId);\\n        }, function() {\\n            slide();\\n        }).click(function(event) {\\n            var a_index = $(this).index();\\n            var span = a_index > 0 ? 1 : -1;\\n            var tab_index = $(\".slide-circle li.cur\").index();\\n            var next = (tab_index + span + tab_count) % tab_count;\\n            $(\".slide-tu li\").hide().eq(next).show();\\n            $(\".slide-circle li\").removeClass(\\'cur\\').eq(next).addClass(\\'cur\\');\\n        });\\n\\n    });\\n</script>\\n<!-- \\xe8\\xbd\\xae\\xe6\\x92\\xad\\xe5\\x9b\\xbe -->\\n<div class=\"module-slide\">\\n<div class=\"slide-tu\">\\n      <ul>\\n                           <li>\\n                       <a href=\"https://jzt.jd.com/gw/dissert/jzt-split/1897.html\" style=\"background:url(http://storage.jd.com/jtz.file.cloudy/201905/241857041fnh.png) no-repeat center;\"></a>\\n                   </li>\\n                   <li>\\n                       <a href=\"https://jzt.jd.com/study/guanggaosucai/1835.jhtml\" style=\"background:url(http://storage.jd.com/jtz.file.cloudy/201905/241858228ysh.png) no-repeat center;\"></a>\\n                   </li>\\n                   <li>\\n                       <a href=\"https://jzt.jd.com/study/monthly/1895.jhtml\" style=\"background:url(http://storage.jd.com/jtz.file.cloudy/201905/2418585293lb.png) no-repeat center;\"></a>\\n                   </li>\\n      </ul>\\n</div>\\n\\n<div class=\"slide-circle\">\\n      <ul>\\n        \\n             \\t\\t<li class=\"cur\"></li>\\n                   <li> </li>\\n                   <li> </li>\\n      </ul>\\n</div>\\n\\n<div class=\"slide-btn\">\\n    <a href=\"javascript:void(0);\" class=\"slide-btnl\"></a>\\n    <a href=\"javascript:void(0);\" class=\"slide-btnr\"></a>\\n</div></div>\\n\\n\\n<!-- \\xe6\\x88\\x91\\xe4\\xbb\\xac\\xe7\\x9a\\x84\\xe4\\xbc\\x98\\xe5\\x8a\\xbf   start-->\\n<div class=\"bg-ys\">\\n\\t<div class=\"wrapper\">\\n\\t\\t<h4 class=\"jd-title\">\\xe6\\x88\\x91\\xe4\\xbb\\xac\\xe7\\x9a\\x84\\xe4\\xbc\\x98\\xe5\\x8a\\xbf<span></span></h4>\\n\\t\\t<a  class=\"jd-slogan\">\\xe4\\xbe\\x9d\\xe6\\x89\\x98\\xe4\\xba\\xac\\xe4\\xb8\\x9c\\xe9\\x9b\\x86\\xe5\\x9b\\xa2\\xe7\\x9a\\x84\\xe5\\xa4\\xa7\\xe6\\x95\\xb0\\xe6\\x8d\\xae\\xe4\\xbc\\x98\\xe5\\x8a\\xbf\\xef\\xbc\\x8c\\xe4\\xb8\\xba\\xe4\\xbd\\xa0\\xe6\\x8f\\x90\\xe4\\xbe\\x9b\\xe7\\xb2\\xbe\\xe5\\x87\\x86\\xe3\\x80\\x81\\xe9\\xab\\x98\\xe6\\x95\\x88\\xe7\\x9a\\x84\\xe4\\xb8\\x80\\xe4\\xbd\\x93\\xe5\\x8c\\x96\\xe7\\xbd\\x91\\xe7\\xbb\\x9c\\xe8\\x90\\xa5\\xe9\\x94\\x80\\xe6\\x8e\\xa8\\xe5\\xb9\\xbf\\xe6\\x96\\xb9\\xe6\\xa1\\x88</a>\\n\\t\\t<div class=\"ys-con clearfix\">\\r\\n\\t<div class=\"ys-item\"><span><img src=\"http://storage.jd.com/jtz.file.cloudy/201609/06211426mj6m.png\" /></span>\\r\\n\\t\\t<h5>\\r\\n\\t\\t\\t\\xe6\\xb5\\xb7\\xe9\\x87\\x8f\\xe6\\xb5\\x81\\xe9\\x87\\x8f</h5>\\r\\n\\t\\t<p>\\xe4\\xbe\\x9d\\xe6\\x89\\x98&ldquo;\\xe4\\xba\\xac\\xe8\\x85\\xbe\\xe8\\xae\\xa1\\xe5\\x88\\x92&rdquo;\\xef\\xbc\\x8c\\xe7\\x95\\x85\\xe4\\xba\\xab\\xe4\\xba\\xac\\xe4\\xb8\\x9c\\xe7\\x94\\xb5\\xe5\\x95\\x86<br />\\r\\n\\t\\t\\t\\xe5\\x8f\\x8a\\xe8\\x85\\xbe\\xe8\\xae\\xaf\\xe7\\xa4\\xbe\\xe4\\xba\\xa4\\xe7\\x9a\\x84\\xe6\\xb5\\xb7\\xe9\\x87\\x8f\\xe4\\xbc\\x98\\xe8\\xb4\\xa8\\xe6\\xb5\\x81\\xe9\\x87\\x8f\\xe8\\xb5\\x84\\xe6\\xba\\x90</p>\\r\\n\\t</div>\\r\\n\\t<div class=\"ys-item\"><span><img src=\"http://storage.jd.com/jtz.file.cloudy/201609/06211441wsfs.png\" /></span>\\r\\n\\t\\t<h5>\\r\\n\\t\\t\\t\\xe7\\xb2\\xbe\\xe5\\x87\\x86\\xe5\\xae\\x9a\\xe5\\x90\\x91</h5>\\r\\n\\t\\t<p>\\xe7\\x81\\xb5\\xe6\\xb4\\xbb\\xe3\\x80\\x81\\xe9\\xab\\x98\\xe6\\x95\\x88\\xe3\\x80\\x81\\xe7\\xb2\\xbe\\xe5\\x87\\x86\\xe7\\x9a\\x84\\xe5\\x9c\\x88\\xe5\\xae\\x9a<br />\\r\\n\\t\\t\\t\\xe8\\x90\\xa5\\xe9\\x94\\x80\\xe7\\x9b\\xae\\xe6\\xa0\\x87\\xe4\\xba\\xba\\xe7\\xbe\\xa4\\xe5\\x8f\\x8a\\xe6\\xbd\\x9c\\xe5\\x9c\\xa8\\xe7\\x94\\xa8\\xe6\\x88\\xb7</p>\\r\\n\\t</div>\\r\\n\\t<div class=\"ys-item\"><span><img src=\"http://storage.jd.com/jtz.file.cloudy/201609/0621145378we.png\" /></span>\\r\\n\\t\\t<h5>\\r\\n\\t\\t\\t\\xe8\\xb5\\x84\\xe6\\xba\\x90\\xe4\\xb8\\xb0\\xe5\\xaf\\x8c</h5>\\r\\n\\t\\t<p>\\xe5\\x9d\\x90\\xe6\\x8b\\xa5\\xe4\\xba\\xac\\xe4\\xb8\\x9c\\xe3\\x80\\x81\\xe8\\x85\\xbe\\xe8\\xae\\xaf\\xe4\\xbb\\xa5\\xe5\\x8f\\x8a\\xe5\\x90\\x84\\xe7\\xb1\\xbb\\xe5\\xaa\\x92\\xe4\\xbd\\x93<br />\\r\\n\\t\\t\\t\\xe4\\xb8\\xb0\\xe5\\xaf\\x8c\\xe7\\x9a\\x84\\xe5\\xb9\\xbf\\xe5\\x91\\x8a\\xe8\\xb5\\x84\\xe6\\xba\\x90</p>\\r\\n\\t</div>\\r\\n\\t<div class=\"ys-item\"><span><img src=\"http://storage.jd.com/jtz.file.cloudy/201609/06211505f765.png\" /></span>\\r\\n\\t\\t<h5>\\r\\n\\t\\t\\t\\xe5\\xa4\\x9a\\xe5\\x9c\\xba\\xe6\\x99\\xaf\\xe8\\x90\\xa5\\xe9\\x94\\x80</h5>\\r\\n\\t\\t<p>\\xe5\\xae\\x9e\\xe7\\x8e\\xb0PC\\xe3\\x80\\x81APP\\xe3\\x80\\x81M\\xe3\\x80\\x81\\xe5\\xbe\\xae\\xe4\\xbf\\xa1\\xe5\\x92\\x8c<br />\\r\\n\\t\\t\\t\\xe6\\x89\\x8b\\xe6\\x9c\\xbaQQ\\xe7\\x9a\\x84\\xe5\\xa4\\x9a\\xe5\\x9c\\xba\\xe6\\x99\\xaf\\xe8\\x90\\xa5\\xe9\\x94\\x80</p>\\r\\n\\t</div>\\r\\n\\t<div class=\"ys-item\"><span><img src=\"http://storage.jd.com/jtz.file.cloudy/201609/062115161pqy.png\" /></span>\\r\\n\\t\\t<h5>\\r\\n\\t\\t\\t\\xe4\\xb8\\x93\\xe4\\xb8\\x9a\\xe5\\x88\\x86\\xe6\\x9e\\x90</h5>\\r\\n\\t\\t<p>\\xe5\\xae\\x8c\\xe5\\x96\\x84\\xe7\\x9a\\x84\\xe6\\x95\\xb0\\xe6\\x8d\\xae\\xe5\\x88\\x86\\xe6\\x9e\\x90\\xe6\\x96\\xb9\\xe6\\xa1\\x88<br />\\r\\n\\t\\t\\t\\xe5\\xa4\\x9a\\xe7\\xbb\\xb4\\xe5\\xba\\xa6\\xe5\\x88\\x86\\xe6\\x9e\\x90\\xe8\\x90\\xa5\\xe9\\x94\\x80\\xe6\\x95\\xb0\\xe6\\x8d\\xae\\xe5\\x8f\\x8a\\xe8\\xa1\\x8c\\xe4\\xb8\\x9a\\xe7\\x8e\\xb0\\xe7\\x8a\\xb6</p>\\r\\n\\t</div>\\r\\n</div>\\r\\n\\n\\t\\t<a class=\"jd-more\" href=\"//jzt.jd.com/gw/platformadvantage.htm\">\\xe4\\xba\\x86\\xe8\\xa7\\xa3\\xe4\\xba\\xac\\xe5\\x87\\x86\\xe9\\x80\\x9a</a>\\n\\t</div>\\n</div>\\n<!-- \\xe6\\x88\\x91\\xe4\\xbb\\xac\\xe7\\x9a\\x84\\xe4\\xbc\\x98\\xe5\\x8a\\xbf   end-->\\n<!-- \\xe6\\x88\\x91\\xe4\\xbb\\xac\\xe7\\x9a\\x84\\xe4\\xba\\xa7\\xe5\\x93\\x81 -->\\n<div class=\"bg-cp\">\\n\\t<div class=\"wrapper\">\\n\\t\\t<h4 class=\"jd-title\">\\xe6\\x88\\x91\\xe4\\xbb\\xac\\xe7\\x9a\\x84\\xe4\\xba\\xa7\\xe5\\x93\\x81<span></span></h4>\\n\\t\\t<a  class=\"jd-slogan\">\\xe5\\x85\\xa8\\xe6\\x96\\xb9\\xe4\\xbd\\x8d\\xe3\\x80\\x81\\xe5\\xa4\\x9a\\xe7\\xbb\\xb4\\xe5\\xba\\xa6\\xe7\\x9a\\x84\\xe4\\xb8\\xaa\\xe6\\x80\\xa7\\xe5\\x8c\\x96\\xe5\\xb9\\xbf\\xe5\\x91\\x8a\\xe4\\xba\\xa7\\xe5\\x93\\x81\\xe6\\x9c\\x8d\\xe5\\x8a\\xa1\\xef\\xbc\\x8c\\xe6\\x80\\xbb\\xe6\\x9c\\x89\\xe4\\xb8\\x80\\xe6\\xac\\xbe\\xe9\\x80\\x82\\xe5\\x90\\x88\\xe4\\xbd\\xa0</a>\\n\\n\\t\\t<div class=\"cp-con clearfix pt30\">\\n\\t\\t\\t<a href=\"//jzt.jd.com/gw/jdkchome/index.jhtml\"  target=\"_blank\">\\n\\t\\t\\t\\t<span class=\"icon-jdkc2\"></span>\\n\\t\\t\\t\\t<i>\\xe4\\xba\\xac\\xe4\\xb8\\x9c\\xe5\\xbf\\xab\\xe8\\xbd\\xa6</i>\\n\\t\\t\\t</a>\\n\\t\\t\\t<a href=\"//jzt.jd.com/gw/jxzwhome/index.jhtml\"  target=\"_blank\">\\n\\t\\t\\t\\t<span class=\"icon-search2\"></span>\\n\\t\\t\\t\\t<i>\\xe4\\xba\\xac\\xe9\\x80\\x89\\xe5\\xb1\\x95\\xe4\\xbd\\x8d</i>\\n\\t\\t\\t</a>\\n\\t\\t\\t<a href=\"//jzt.jd.com/gw/jtkhome/index.jhtml\"  target=\"_blank\">\\n\\t\\t\\t\\t<span class=\"icon-jtk3\"></span>\\n\\t\\t\\t\\t<i>\\xe4\\xba\\xac\\xe6\\x8c\\x91\\xe5\\xae\\xa2</i>\\n\\t\\t\\t</a>\\n\\t\\t\\t<!--  <a href=\"\"  target=\"_blank\">\\n\\t\\t\\t\\t<span class=\"icon-jdzt1\"></span>\\n\\t\\t\\t\\t<i>\\xe4\\xba\\xac\\xe4\\xb8\\x9c\\xe7\\x9b\\xb4\\xe6\\x8a\\x95</i>\\n\\t\\t\\t</a>\\n\\t\\t\\t<a href=\"//jzt.jd.com/gw/dmphome/index.jhtml\"  target=\"_blank\">\\n\\t\\t\\t\\t<span class=\"icon-dmp\"></span>\\n\\t\\t\\t\\t<i>DMP</i>\\n\\t\\t\\t</a>-->\\n\\t\\t\\t<div class=\"cp-te\">\\n\\t\\t\\t\\t<span>+</span>\\n\\t\\t\\t\\t<i>\\xe6\\x9b\\xb4\\xe5\\xa4\\x9a\\xe4\\xba\\xa7\\xe5\\x93\\x81\\xef\\xbc\\x8c\\xe6\\x95\\xac\\xe8\\xaf\\xb7\\xe6\\x9c\\x9f\\xe5\\xbe\\x85</i>\\n\\t\\t\\t</div>\\n\\t\\t</div>\\n\\t</div>\\n</div>\\n\\n<!-- \\xe4\\xbc\\x98\\xe7\\xa7\\x80\\xe6\\xa1\\x88\\xe4\\xbe\\x8b -->\\n<div class=\"bg-white\">\\n\\t<div class=\"wrapper pb70\">\\n\\t\\t<h4 class=\"jd-title\">\\xe4\\xbc\\x98\\xe7\\xa7\\x80\\xe6\\xa1\\x88\\xe4\\xbe\\x8b<span></span></h4>\\n\\n\\t\\t<a  class=\"jd-slogan\">\\xe7\\xbb\\x86\\xe8\\x87\\xb4\\xe7\\x9a\\x84\\xe5\\xae\\xa2\\xe6\\x88\\xb7\\xe6\\xa1\\x88\\xe4\\xbe\\x8b\\xe8\\xaf\\xa6\\xe8\\xa7\\xa3\\xef\\xbc\\x8c\\xe6\\xb4\\x9e\\xe6\\x82\\x89\\xe8\\xa1\\x8c\\xe4\\xb8\\x9a\\xe4\\xbc\\x98\\xe7\\xa7\\x80\\xe8\\x90\\xa5\\xe9\\x94\\x80\\xe7\\xad\\x96\\xe7\\x95\\xa5</a>\\n\\n\\n\\t\\t<div class=\"case-btn\">\\n\\t\\t\\t<a href=\"javascript:void(0);\" id=\"LeftArr1\"><span class=\"icon-arrowL\"></span></a>\\n\\t\\t\\t<a href=\"javascript:void(0);\" id=\"RightArr1\" class=\"ml5\"><span class=\"icon-arrowR\"></span></a>\\n\\t\\t</div>\\n\\t\\t<div class=\"wrapper-nei pt10 pb10\">\\n\\t\\t\\t<div class=\"csae-main-box\" id=\"scrollCon1\">\\n\\n\\n\\n\\n\\t\\t\\t\\t<div class=\"list-video\">\\n\\t\\t\\t\\t\\t<a href=\"https://jzt.jd.com/gw/jdztexample/1559.html\" class=\"module-video\">\\n\\t\\t\\t\\t\\t\\t<img src=\"http://storage.jd.com/jtz.file.cloudy/201806/04115431h6p2.jpg\">\\n\\t\\t\\t\\t\\t\\t<p class=\"video-title\">\\xe7\\xbb\\xb4\\xe8\\xbe\\xbe11\\xe6\\x9c\\x88\\xe5\\xa4\\xa7\\xe4\\xbf\\x83\\xe6\\x9c\\x9f\\xe6\\x8a\\x95\\xe6\\x94\\xbe\\xe6\\xa1\\x88\\xe4\\xbe\\x8b<span>\\xe2\\x86\\x92</span></p>\\n\\t\\t\\t\\t\\t\\t<p class=\"video-detail\">\\xe5\\x93\\x81\\xe7\\x89\\x8c\\xe5\\x80\\x9f\\xe5\\x8a\\x9b11\\xc2\\xb711\\xe5\\xa4\\xa7\\xe4\\xbf\\x83\\xe8\\x8a\\x82\\xe5\\xba\\x86\\xef\\xbc\\x8c\\xe4\\xbb\\x8a\\xe6\\x97\\xa5\\xe5\\xa4\\xb4\\xe6\\x9d\\xa1&\\xe7\\x99\\xbe\\xe5\\xba\\xa6\\xe6\\xb8\\xa0\\xe9\\x81\\x93\\xe5\\x8f\\x8c\\xe6\\x8a\\x95\\xe6\\x94\\xbe\\xef\\xbc\\x8cROI\\xe6\\x98\\xbe\\xe8\\x91\\x97\\xe6\\x8f\\x90\\xe5\\x8d\\x87\\xef\\xbc\\x8c\\xe4\\xba\\xacX\\xe6\\x95\\x88\\xe6\\x9e\\x9c\\xe5\\xb9\\xbf\\xe5\\x91\\x8a\\xe5\\x8a\\xa9\\xe5\\x8a\\x9b\\xe5\\x93\\x81\\xe6\\x95\\x88\\xe5\\x90\\x88...</p>\\n\\t\\t\\t\\t\\t</a>\\n\\t\\t\\t\\t</div>\\n\\n\\n\\t\\t\\t\\t<div class=\"list-video\">\\n\\t\\t\\t\\t\\t<a href=\"https://jzt.jd.com/gw/jdztexample/1533.html\" class=\"module-video\">\\n\\t\\t\\t\\t\\t\\t<img src=\"http://storage.jd.com/jtz.file.cloudy/201805/21104246ggjd.jpg\">\\n\\t\\t\\t\\t\\t\\t<p class=\"video-title\">\\xe5\\x85\\xa8\\xe6\\xa3\\x89\\xe6\\x97\\xb6\\xe4\\xbb\\xa3\\xe2\\x80\\x9c\\xe9\\x87\\x87\\xe6\\xa3\\x89\\xe8\\x8a\\x82\\xe2\\x80\\x9d\\xe8\\x90\\xa5\\xe9\\x94\\x80\\xe6\\xa1\\x88\\xe4\\xbe\\x8b<span>\\xe2\\x86\\x92</span></p>\\n\\t\\t\\t\\t\\t\\t<p class=\"video-detail\">\\xe4\\xba\\xac\\xe6\\x9d\\xa1\\xe6\\xb8\\xa0\\xe9\\x81\\x93\\xe4\\xb8\\x8e\\xe4\\xba\\xac\\xe5\\xba\\xa6\\xe6\\xb8\\xa0\\xe9\\x81\\x93\\xe7\\xbb\\x84\\xe5\\x90\\x88\\xe5\\x87\\xba\\xe5\\x87\\xbb\\xef\\xbc\\x8c\\xe4\\xba\\xac\\xe4\\xb8\\x9c\\xe7\\x9b\\xb4\\xe6\\x8a\\x95\\xe5\\x8a\\xa9\\xe5\\x8a\\x9b\\xe5\\x93\\x81\\xe6\\x95\\x88\\xe5\\x90\\x88\\xe4\\xb8\\x80\\xe3\\x80\\x82</p>\\n\\t\\t\\t\\t\\t</a>\\n\\t\\t\\t\\t</div>\\n\\n\\n\\t\\t\\t\\t<div class=\"list-video\">\\n\\t\\t\\t\\t\\t<a href=\"https://jzt.jd.com/gw/jdkcexample/1328.html\" class=\"module-video\">\\n\\t\\t\\t\\t\\t\\t<img src=\"http://storage.jd.com/jtz.file.cloudy/201709/29161516mp5i.png\">\\n\\t\\t\\t\\t\\t\\t<p class=\"video-title\">ZIPPO\\xe8\\x87\\xaa\\xe8\\x90\\xa5\\xe5\\xba\\x97\\xe4\\xb8\\x83\\xe5\\xa4\\x95\\xe8\\x90\\xa5\\xe9\\x94\\x80\\xe6\\xa1\\x88\\xe4\\xbe\\x8b<span>\\xe2\\x86\\x92</span></p>\\n\\t\\t\\t\\t\\t\\t<p class=\"video-detail\">\\xe4\\xb8\\x83\\xe5\\xa4\\x95\\xe4\\xbd\\xb3\\xe8\\x8a\\x82\\xef\\xbc\\x8c\\xe5\\x9c\\xa8\\xe4\\xba\\xac\\xe4\\xb8\\x9c\\xe5\\x95\\x86\\xe5\\x9f\\x8e\\xe5\\x8f\\x91\\xe8\\xb5\\xb7\\xe4\\xb8\\xba\\xe6\\x9c\\x9f8\\xe5\\xa4\\xa9\\xe7\\x9a\\x84\\xe7\\x89\\xb9\\xe5\\x88\\xab\\xe6\\xb4\\xbb\\xe5\\x8a\\xa8,\\xe9\\x87\\x87\\xe7\\x94\\xa8DMP\\xe4\\xbc\\x98\\xe5\\x8c\\x96\\xe5\\xae\\x9a\\xe5\\x90\\x91\\xef\\xbc\\x8c\\xe5\\x90\\x8c\\xe6\\x97\\xb6\\xe7\\xbb\\x93\\xe5\\x90\\x88\\xe8\\xa1\\x8c\\xe4\\xb8\\x9a\\xe5\\xa4\\xa7\\xe7\\x9b\\x98\\xe7\\xad\\x89\\xe5\\xb7\\xa5\\xe5\\x85\\xb7...</p>\\n\\t\\t\\t\\t\\t</a>\\n\\t\\t\\t\\t</div>\\n\\n\\n\\t\\t\\t\\t<div class=\"list-video\">\\n\\t\\t\\t\\t\\t<a href=\"https://jzt.jd.com/gw/otherexample/1327.html\" class=\"module-video\">\\n\\t\\t\\t\\t\\t\\t<img src=\"http://storage.jd.com/jtz.file.cloudy/201709/291603376sf8.png\">\\n\\t\\t\\t\\t\\t\\t<p class=\"video-title\">\\xe5\\xa5\\xa5\\xe5\\x85\\x8b\\xe6\\x96\\xaf\\xe4\\xba\\xac\\xe4\\xb8\\x9c\\xe6\\x97\\xa0\\xe7\\xba\\xbf\\xe9\\x80\\x9a\\xe8\\x90\\xa5\\xe9\\x94\\x80\\xe6\\xa1\\x88\\xe4\\xbe\\x8b<span>\\xe2\\x86\\x92</span></p>\\n\\t\\t\\t\\t\\t\\t<p class=\"video-detail\">\\xe6\\x8a\\x95\\xe6\\x94\\xbeROI\\xe6\\x9c\\x80\\xe9\\xab\\x98\\xe8\\xbe\\xbe320\\xef\\xbc\\x8c\\xe7\\x9c\\x8b\\xe4\\xba\\xac\\xe6\\x9d\\xa1\\xe8\\xae\\xa1\\xe5\\x88\\x92\\xe5\\xa6\\x82\\xe4\\xbd\\x95\\xe6\\x8b\\x89\\xe5\\x8a\\xa8\\xe7\\xab\\x99\\xe5\\xa4\\x96\\xe6\\xb5\\x81\\xe9\\x87\\x8f\\xe5\\xae\\x9e\\xe7\\x8e\\xb0\\xe8\\xb6\\x85\\xe9\\xab\\x98\\xe8\\xbd\\xac\\xe5\\x8c\\x96\\xe3\\x80\\x82</p>\\n\\t\\t\\t\\t\\t</a>\\n\\t\\t\\t\\t</div>\\n\\n\\n\\n\\n\\n\\n\\n\\t\\t\\t</div>\\n\\t\\t</div>\\n\\t\\t<a href=\"//jzt.jd.com/gw/case/index.jhtml\" class=\"jd-more\">\\xe4\\xba\\x86\\xe8\\xa7\\xa3\\xe6\\x9b\\xb4\\xe5\\xa4\\x9a</a>\\n\\t</div>\\n</div>\\n\\n<!-- \\xe7\\x83\\xad\\xe7\\x82\\xb9\\xe8\\xb5\\x84\\xe8\\xae\\xaf -->\\n<div class=\"bg-grayf5\">\\n\\t<div class=\"wrapper pb70\">\\n\\t\\t<h4 class=\"jd-title\">\\xe7\\x83\\xad\\xe7\\x82\\xb9\\xe8\\xb5\\x84\\xe8\\xae\\xaf<span></span></h4>\\n\\t\\t<a  class=\"jd-slogan\">\\xe6\\xb1\\x87\\xe8\\x81\\x9a\\xe8\\xa1\\x8c\\xe4\\xb8\\x9a\\xe3\\x80\\x81\\xe4\\xba\\xa7\\xe5\\x93\\x81\\xe6\\x9c\\x80\\xe7\\x83\\xad\\xe8\\xb5\\x84\\xe8\\xae\\xaf\\xef\\xbc\\x8c\\xe5\\x8a\\xa9\\xe4\\xbd\\xa0\\xe5\\xae\\x9e\\xe6\\x97\\xb6\\xe6\\x8e\\x8c\\xe6\\x8f\\xa1\\xe8\\xa1\\x8c\\xe4\\xb8\\x9a\\xe5\\x8a\\xa8\\xe6\\x80\\x81</a>\\n\\n\\n\\t\\t<div class=\"wrapper-nei1 hot-con\">\\n\\n\\n\\n\\t\\t\\t<a href=\"https://jzt.jd.com/gw/business/1534.html\" class=\"module-hot\">\\n\\t\\t\\t\\t<i>04-30-2018</i>\\n\\t\\t\\t\\t<h6>\\xe6\\x95\\xb0\\xe6\\x8d\\xae\\xe6\\x99\\xba\\xe8\\x83\\xbd\\xe8\\xb5\\x8b\\xe8\\x83\\xbd\\xe8\\x90\\xa5\\xe9\\x94\\x80\\xef\\xbc\\x8c\\xe4\\xba\\xac\\xe4\\xb8\\x9c\\xe5\\xae\\x9e\\xe5\\x8a\\x9b\\xe6\\x96\\xa9\\xe8\\x8e\\xb7\\xe9\\x87\\x91\\xe9\\xbc\\xa0\\xe6\\xa0\\x87...</h6>\\n\\t\\t\\t\\t<p>4\\xe6\\x9c\\x8827\\xe6\\x97\\xa5\\xef\\xbc\\x8c2018\\xe9\\x87\\x91\\xe9\\xbc\\xa0\\xe6\\xa0\\x87\\xe6\\x95\\xb0\\xe5\\xad\\x97\\xe8\\x90\\xa5\\xe9\\x94\\x80\\xe8\\x8a\\x82\\xe5\\x9c\\x86\\xe6\\xbb\\xa1\\xe6\\x94\\xb6\\xe5\\xae\\x98\\xef\\xbc\\x8c\\xe9\\xa2\\x81\\xe5\\xa5\\x96\\xe6\\x99\\x9a\\xe5\\xae\\xb4\\xe4\\xb8\\x8a\\xe7\\xac\\xac9\\xe5\\xb1\\x8a\\xe9\\x87\\x91\\xe9\\xbc\\xa0\\xe6\\xa0\\x87\\xe6\\x95\\xb0\\xe5\\xad\\x97\\xe8\\x90\\xa5\\xe9\\x94\\x80\\xe5\\xa4\\xa7\\xe8\\xb5\\x9b\\xe8\\x8e\\xb7\\xe5\\xa5\\x96\\xe5\\x90\\x8d\\xe5\\x8d\\x95\\xe6\\x8f\\xad...</p>\\n\\t\\t\\t</a>\\n\\n\\t\\t\\t<a href=\"https://jzt.jd.com/gw/companynews/1414.html\" class=\"module-hot\">\\n\\t\\t\\t\\t<i>01-03-2018</i>\\n\\t\\t\\t\\t<h6>\\xe4\\xb8\\x89\\xe5\\xa4\\xa7\\xe5\\x85\\xb3\\xe9\\x94\\xae\\xe8\\xaf\\x8d\\xe5\\x9b\\x9e\\xe9\\xa1\\xbe2017\\xe4\\xba\\xac\\xe5\\x87\\x86\\xe9\\x80\\x9a\\xe6\\x97\\xa0\\xe7\\x95\\x8c\\xe8\\x90\\xa5\\xe9\\x94\\x80\\xe6\\x99\\xba\\xe8\\x83\\xbd...</h6>\\n\\t\\t\\t\\t<p>\\xe5\\xa6\\x82\\xe6\\x9e\\x9c\\xe7\\x94\\xa8\\xe4\\xb8\\x89\\xe4\\xb8\\xaa\\xe5\\x85\\xb3\\xe9\\x94\\xae\\xe8\\xaf\\x8d\\xe6\\x9d\\xa5\\xe6\\x80\\xbb\\xe7\\xbb\\x93\\xef\\xbc\\x9a\\xe2\\x80\\x9c\\xe6\\x95\\xb0\\xe6\\x8d\\xae\\xe6\\x99\\xba\\xe8\\x83\\xbd\\xe2\\x80\\x9d\\xe2\\x80\\x9cAI\\xe8\\xb5\\x8b\\xe8\\x83\\xbd\\xe2\\x80\\x9d\\xe2\\x80\\x9c\\xe6\\x97\\xa0\\xe7\\x95\\x8c\\xe5\\x85\\xb1\\xe8\\xb5\\xa2\\xe2\\x80\\x9d\\xe6\\x97\\xa0\\xe7\\x96\\x91\\xe6\\x98\\xaf\\xe4\\xba\\xac\\xe4\\xb8\\x9c\\xe9\\xab\\x98\\xe6\\x95\\x88\\xe5\\x8a\\xa9\\xe5\\x8a\\x9b\\xe5\\x93\\x81\\xe7\\x89\\x8c\\xe5\\x95\\x86...</p>\\n\\t\\t\\t</a>\\n\\n\\t\\t\\t<a href=\"https://jzt.jd.com/gw/business/1416.html\" class=\"module-hot\">\\n\\t\\t\\t\\t<i>11-22-2017</i>\\n\\t\\t\\t\\t<h6>\\xe5\\x88\\x9b\\xe6\\x96\\xb0\\xe7\\x94\\xb5\\xe5\\x95\\x86\\xe5\\x9c\\xba\\xe6\\x99\\xaf\\xe8\\x90\\xa5\\xe9\\x94\\x80\\xef\\xbc\\x9a\\xe4\\xbd\\x9c\\xe4\\xb8\\xba\\xe5\\xaa\\x92\\xe4\\xbd\\x93\\xe5\\xb9\\xb3\\xe5\\x8f\\xb0\\xe7\\x9a\\x84\\xe4\\xba\\xac\\xe4\\xb8\\x9c...</h6>\\n\\t\\t\\t\\t<p>\\xe8\\xbf\\x91\\xe6\\x97\\xa5\\xef\\xbc\\x8c\\xe5\\x9c\\xa82017\\xe5\\xa4\\xa7\\xe4\\xb8\\xad\\xe5\\x8d\\x8e\\xe5\\x8c\\xba\\xe8\\x89\\xbe\\xe8\\x8f\\xb2\\xe5\\xa5\\x96\\xe9\\xa2\\x81\\xe5\\xa5\\x96\\xe7\\x9b\\x9b\\xe5\\x85\\xb8\\xe4\\xb8\\x8a\\xef\\xbc\\x8c\\xe4\\xba\\xac\\xe4\\xb8\\x9c\\xe4\\xbb\\xa5\\xe3\\x80\\x8a\\xe8\\x88\\x92\\xe8\\x82\\xa4\\xe4\\xbd\\xb3\\xef\\xbc\\x8c\\xe8\\x88\\x92\\xe6\\x9c\\x8d\\xe5\\xae\\xb6\\xe3\\x80\\x8b\\xe5\\x93\\x81\\xe7\\x89\\x8c\\xe8\\x81\\x94\\xe5\\x90\\x88\\xe6\\xb4\\xbb\\xe5\\x8a\\xa8\\xef\\xbc\\x8c\\xe6\\x96\\xa9\\xe8\\x8e\\xb7\\xe8\\x89\\xbe...</p>\\n\\t\\t\\t</a>\\n\\n\\n\\n\\n\\n\\n\\n\\n\\n\\n\\t\\t</div>\\n\\t\\t<a href=\"//jzt.jd.com/gw/news/index.jhtml\" class=\"jd-more\">\\xe4\\xba\\x86\\xe8\\xa7\\xa3\\xe6\\x9b\\xb4\\xe5\\xa4\\x9a</a>\\n\\t</div>\\n\\t<p style=\"text-align:center; line-height:30px\">\\xe4\\xba\\xac\\xe5\\x87\\x86\\xe9\\x80\\x9a-\\xe4\\xba\\xac\\xe4\\xb8\\x9c\\xe9\\x9b\\x86\\xe5\\x9b\\xa2\\xe6\\x97\\x97\\xe4\\xb8\\x8b\\xe8\\x90\\xa5\\xe9\\x94\\x80\\xe6\\x8e\\xa8\\xe5\\xb9\\xbf\\xe5\\xb9\\xb3\\xe5\\x8f\\xb0\\xef\\xbc\\x8c\\xe4\\xb8\\xba\\xe5\\xae\\xa2\\xe6\\x88\\xb7\\xe6\\x8f\\x90\\xe4\\xbe\\x9b\\xef\\xbc\\x8c\\xe7\\xb2\\xbe\\xe5\\x87\\x86\\xe5\\xb9\\xbf\\xe5\\x91\\x8a\\xe6\\x8a\\x95\\xe6\\x94\\xbe\\xe3\\x80\\x81DSP\\xe5\\xb9\\xbf\\xe5\\x91\\x8a\\xef\\xbc\\x8cCPS\\xe5\\xb9\\xbf\\xe5\\x91\\x8a\\xef\\xbc\\x8cCPC\\xe5\\xb9\\xbf\\xe5\\x91\\x8a\\xe7\\xad\\x89\\xe9\\xab\\x98\\xe6\\x95\\x88\\xe7\\x9a\\x84\\xe4\\xb8\\x80\\xe4\\xbd\\x93\\xe5\\x8c\\x96\\xe8\\x90\\xa5\\xe9\\x94\\x80\\xe8\\xa7\\xa3\\xe5\\x86\\xb3\\xe6\\x96\\xb9\\xe6\\xa1\\x88\\xe3\\x80\\x82</p>\\n</div>\\n<div class=\"module-navbar\">\\n\\t<a href=\"javascript:void(0)\" target=\"_blank\">\\n\\t\\t<img src=\"/gw/r/cms/www/www_new/img/navbar6.png\">\\n\\t\\t<div class=\"phone\">\\n\\t\\t\\t<p>\\xe4\\xba\\xac\\xe5\\x87\\x86\\xe9\\x80\\x9aAPP\\xe4\\xb8\\x8b\\xe8\\xbd\\xbd</p>\\n            <img src=\"/gw/r/cms/www/www_new/img/jzt-app-download.png\">\\n\\t\\t</div>\\n\\t</a>\\n\\t<a href=\"javascript:void(0)\">\\n\\t\\t<img src=\"/gw/r/cms/www/www_new/img/navbar2.png\">\\n\\t\\t<div class=\"wx\">\\n\\t\\t\\t<p>\\xe4\\xba\\xac\\xe5\\x87\\x86\\xe9\\x80\\x9a\\xe5\\xbe\\xae\\xe4\\xbf\\xa1\\xe8\\xae\\xa2\\xe9\\x98\\x85\\xe5\\x8f\\xb7</p>\\n\\t\\t\\t<img src=\"/gw/r/cms/www/www_new/img/navbar-jzt-code.png\">\\n\\t\\t\\t<p>\\xe4\\xba\\xac\\xe7\\x82\\xb9\\xe4\\xb9\\xa6\\xe9\\x99\\xa2\\xe5\\xbe\\xae\\xe4\\xbf\\xa1\\xe5\\x85\\xac\\xe4\\xbc\\x97\\xe5\\x8f\\xb7</p>\\n\\t\\t\\t<img src=\"/gw/r/cms/www/www_new/img/navbar-jdsy-code.png\">\\n\\t\\t</div>\\n\\t</a>\\n\\t<a href=\"//weibo.com/jztjd\" target=\"_blank\"><img src=\"/gw/r/cms/www/www_new/img/navbar3.png\"></a>\\n\\t<a href=\"//jzt.jd.com/msg/\" target=\"_blank\"><img src=\"/gw/r/cms/www/www_new/img/navbar4.png\"></a>\\n\\t<a href=\"javascript:void(0)\" id=\"back_top\"><img src=\"/gw/r/cms/www/www_new/img/navbar5.png\"></a>\\n</div>\\n<script>\\n    $(function() {\\n        function initScroll01(){\\n            var scrollPic_01 = new ScrollPic();\\n            scrollPic_01.scrollContId = \"scrollCon1\";//\\xe5\\x86\\x85\\xe5\\xae\\xb9\\xe5\\xae\\xb9\\xe5\\x99\\xa8ID\\n            scrollPic_01.arrLeftId    = \"LeftArr1\";//\\xe5\\xb7\\xa6\\xe7\\xae\\xad\\xe5\\xa4\\xb4ID\\n            scrollPic_01.arrRightId   = \"RightArr1\";//\\xe5\\x8f\\xb3\\xe7\\xae\\xad\\xe5\\xa4\\xb4ID\\n            scrollPic_01.frameWidth   = 1200;//\\xe6\\x98\\xbe\\xe7\\xa4\\xba\\xe6\\xa1\\x86\\xe5\\xae\\xbd\\xe5\\xba\\xa6\\n            scrollPic_01.pageWidth    = 1200;//\\xe7\\xbf\\xbb\\xe9\\xa1\\xb5\\xe5\\xae\\xbd\\xe5\\xba\\xa6\\n            scrollPic_01.speed        = 30;//\\xe7\\xa7\\xbb\\xe5\\x8a\\xa8\\xe9\\x80\\x9f\\xe5\\xba\\xa6(\\xe5\\x8d\\x95\\xe4\\xbd\\x8d\\xe6\\xaf\\xab\\xe7\\xa7\\x92\\xef\\xbc\\x8c\\xe8\\xb6\\x8a\\xe5\\xb0\\x8f\\xe8\\xb6\\x8a\\xe5\\xbf\\xab)\\n            scrollPic_01.space        = 30;//\\xe6\\xaf\\x8f\\xe6\\xac\\xa1\\xe7\\xa7\\xbb\\xe5\\x8a\\xa8\\xe5\\x83\\x8f\\xe7\\xb4\\xa0(\\xe5\\x8d\\x95\\xe4\\xbd\\x8dpx\\xef\\xbc\\x8c\\xe8\\xb6\\x8a\\xe5\\xa4\\xa7\\xe8\\xb6\\x8a\\xe5\\xbf\\xab)\\n            scrollPic_01.autoPlay     = true;//\\xe8\\x87\\xaa\\xe5\\x8a\\xa8\\xe6\\x92\\xad\\xe6\\x94\\xbe\\n            scrollPic_01.autoPlayTime = 6;//\\xe8\\x87\\xaa\\xe5\\x8a\\xa8\\xe6\\x92\\xad\\xe6\\x94\\xbe\\xe9\\x97\\xb4\\xe9\\x9a\\x94\\xe6\\x97\\xb6\\xe9\\x97\\xb4(\\xe7\\xa7\\x92)\\n            scrollPic_01.initialize();//\\xe5\\x88\\x9d\\xe5\\xa7\\x8b\\xe5\\x8c\\x96\\n        }\\n        initScroll01();\\n    });\\n</script>\\n<script>\\n    $(function() {\\n        // \\xe7\\x82\\xb9\\xe5\\x87\\xbb\\xe8\\xbf\\x94\\xe5\\x9b\\x9e\\xe9\\xa1\\xb6\\xe9\\x83\\xa8\\xef\\xbc\\x8c\\xe8\\xb7\\xb3\\xe8\\xbd\\xac\\xe5\\x88\\xb0\\xe9\\xa1\\xb6\\xe9\\x83\\xa8\\n        $(\\'#back_top\\').click(function() {\\n            $(\"html, body\").animate({\\n                scrollTop: 0\\n            }, 120);\\n        });\\n    });\\n</script>\\n<!-- \\xe9\\xa1\\xb5\\xe5\\xb0\\xbe start-->\\n<!-- \\xe5\\x8f\\x8b\\xe6\\x83\\x85\\xe9\\x93\\xbe\\xe6\\x8e\\xa5\\xe5\\xbc\\x80\\xe5\\xa7\\x8b -->\\n<div class=\"bg-gray3c\">\\n  <div class=\"wrapper footer\">\\n    <div class=\"footer-con\">\\n      <div class=\"clearfix\">\\n        <div class=\"footer-nav\">\\n          <dl>\\n            <dt>\\xe4\\xba\\xac\\xe5\\x87\\x86\\xe9\\x80\\x9a\\xe5\\xae\\x98\\xe7\\xbd\\x91</dt>\\n            <dd><a href=\"//jzt.jd.com/gw/platformadvantage.htm\" target=\"_blank\">\\xe5\\xb9\\xb3\\xe5\\x8f\\xb0\\xe4\\xbb\\x8b\\xe7\\xbb\\x8d</a></dd>\\n            <dd><a href=\"//jzt.jd.com/gw/case/index.htm\" target=\"_blank\">\\xe6\\xa1\\x88\\xe4\\xbe\\x8b\\xe5\\x88\\x86\\xe4\\xba\\xab</a></dd>\\n            <dd><a href=\"//jzt.jd.com/gw/teamintroduction.jhtml\" target=\"_blank\">\\xe5\\x85\\xb3\\xe4\\xba\\x8e\\xe6\\x88\\x91\\xe4\\xbb\\xac</a></dd>\\n            <dd><a href=\"//jzt.jd.com/gw/news/index.htm\" target=\"_blank\">\\xe8\\xb5\\x84\\xe8\\xae\\xaf</a></dd>\\n          </dl>\\n          <dl>\\n            <dt>\\xe5\\x9c\\xa8\\xe7\\xba\\xbf\\xe5\\xad\\xa6\\xe4\\xb9\\xa0</dt>\\n            <dd><a href=\"//jzt.jd.com/study/jingzhuntong/index.jhtml\" target=\"_blank\">\\xe8\\x87\\xaa\\xe5\\xad\\xa6\\xe6\\x95\\x99\\xe7\\xa8\\x8b</a></dd>\\n            <dd><a href=\"//jzt.jd.com/study/online/index.jhtml\" target=\"_blank\">\\xe4\\xba\\xac\\xe7\\x82\\xb9\\xe4\\xb9\\xa6\\xe9\\x99\\xa2</a></dd>\\n            <dd><a href=\"//jzt.jd.com/study/charging/index.jhtml\" target=\"_blank\">\\xe5\\xb8\\xb8\\xe8\\xa7\\x81\\xe9\\x97\\xae\\xe9\\xa2\\x98</a></dd>\\n            <dd><a href=\"//mjbbs.jd.com/forum-96-1.html\" target=\"_blank\">\\xe8\\xae\\xba\\xe5\\x9d\\x9b</a></dd>\\n          </dl>\\n          <dl>\\n            <dt>\\xe8\\x90\\xa5\\xe9\\x94\\x80\\xe4\\xba\\xa7\\xe5\\x93\\x81</dt>\\n            <dd><a href=\"//jzt.jd.com/gw/jdkchome/index.jhtml\" target=\"_blank\">\\xe4\\xba\\xac\\xe4\\xb8\\x9c\\xe5\\xbf\\xab\\xe8\\xbd\\xa6</a></dd>\\n            <dd><a href=\"//jzt.jd.com/edu/edu_home.shtml\" target=\"_blank\">\\xe4\\xba\\xac\\xe4\\xb8\\x9c\\xe7\\x9b\\xb4\\xe6\\x8a\\x95</a></dd>\\n            <dd><a href=\"//jzt.jd.com/gw/jxzwhome/index.jhtml\" target=\"_blank\">\\xe4\\xba\\xac\\xe9\\x80\\x89\\xe5\\xb1\\x95\\xe4\\xbd\\x8d</a></dd>\\n            <dd><a href=\"//jzt.jd.com/gw/jtkhome/index.jhtml\" target=\"_blank\">\\xe4\\xba\\xac\\xe6\\x8c\\x91\\xe5\\xae\\xa2</a></dd>\\n          </dl>\\n          <dl>\\n            <dt>\\xe4\\xba\\x86\\xe8\\xa7\\xa3\\xe6\\x9b\\xb4\\xe5\\xa4\\x9a</dt>\\n            <dd><a href=\"//jzt.jd.com/gw/teamintroduction.jhtml#contactus\" target=\"_blank\">\\xe8\\x81\\x94\\xe7\\xb3\\xbb\\xe6\\x88\\x91\\xe4\\xbb\\xac</a></dd>\\n            <dd><a href=\"//jzt.jd.com/gw/job/index.jhtml\" target=\"_blank\">\\xe6\\x8b\\x9b\\xe8\\x81\\x98\\xe8\\x8b\\xb1\\xe6\\x89\\x8d</a></dd>\\n            <dd><a href=\"//jzt.jd.com/doc/privacy.html\" target=\"_blank\">\\xe9\\x9a\\x90\\xe7\\xa7\\x81\\xe6\\x9d\\xa1\\xe6\\xac\\xbe</a></dd>\\n          </dl>\\n          \\n              <!-- ctgId\\xef\\xbc\\x9a\\xe9\\x93\\xbe\\xe6\\x8e\\xa5\\xe7\\xb1\\xbb\\xe5\\x88\\xab -->              \\n               <dl>\\n                   <dt>\\xe5\\x8f\\x8b\\xe6\\x83\\x85\\xe9\\x93\\xbe\\xe6\\x8e\\xa5</dt>\\n\\t\\t                     <dd><a href=\"http://www.jd.com/\" onclick=\"$.get(\\'/gw/friendlink_view.jspx?id=7\\')\" target=\"_blank\" index=\"0\" >\\xe4\\xba\\xac\\xe4\\xb8\\x9c\\xe5\\x95\\x86\\xe5\\x9f\\x8e</a></dd> \\n\\t\\t                     <dd><a href=\"http://jr.jd.com/?from=jrad_1830098&loc=2\" onclick=\"$.get(\\'/gw/friendlink_view.jspx?id=10\\')\" target=\"_blank\" index=\"1\" >\\xe4\\xba\\xac\\xe4\\xb8\\x9c\\xe9\\x87\\x91\\xe8\\x9e\\x8d</a></dd> \\n\\t\\t                     <dd><a href=\"https://media.jd.com/\" onclick=\"$.get(\\'/gw/friendlink_view.jspx?id=13\\')\" target=\"_blank\" index=\"2\" >\\xe4\\xba\\xac\\xe4\\xb8\\x9c\\xe8\\x81\\x94\\xe7\\x9b\\x9f</a></dd> \\n\\t\\t                     <dd><a href=\"https://wx.jdcloud.com/\" onclick=\"$.get(\\'/gw/friendlink_view.jspx?id=12\\')\" target=\"_blank\" index=\"3\" >\\xe4\\xba\\xac\\xe4\\xb8\\x9c\\xe4\\xb8\\x87\\xe8\\xb1\\xa1</a></dd> \\n               </dl> \\n          \\n             <!-- ctgId\\xef\\xbc\\x9a\\xe9\\x93\\xbe\\xe6\\x8e\\xa5\\xe7\\xb1\\xbb\\xe5\\x88\\xab -->\\n                      <dl>\\n\\t                  <dt>&nbsp;</dt>\\n                       <dd><a href=\"http://ft.jd.com\" onclick=\"$.get(\\'/gw/friendlink_view.jspx?id=14\\')\" target=\"_blank\" index=\"4\" >\\xe4\\xbc\\x81\\xe4\\xb8\\x9a\\xe9\\x87\\x91\\xe8\\x9e\\x8d\\xe6\\x9c\\x8d\\xe5\\x8a\\xa1</a></dd> \\n              </dl>   \\n          \\n            <!-- ctgId\\xef\\xbc\\x9a\\xe9\\x93\\xbe\\xe6\\x8e\\xa5\\xe7\\xb1\\xbb\\xe5\\x88\\xab -->\\n                      <dl>\\n\\t                  <dt>&nbsp;</dt>\\n              </dl>   \\n              <!-- ctgId\\xef\\xbc\\x9a\\xe9\\x93\\xbe\\xe6\\x8e\\xa5\\xe7\\xb1\\xbb\\xe5\\x88\\xab -->\\n                      <dl>\\n\\t                  <dt>&nbsp;</dt>\\n              </dl>   \\n        </div>\\n        <div class=\"footer-code\">\\n          <div class=\"title\">\\xe6\\x89\\xab\\xe4\\xb8\\x80\\xe6\\x89\\xab\\xef\\xbc\\x8c\\xe5\\x85\\xb3\\xe6\\xb3\\xa8\\xe4\\xba\\xac\\xe5\\x87\\x86\\xe9\\x80\\x9a</div>\\n          <div class=\"clearfix\">\\n            <div class=\"qr-code\">\\n              <div class=\"mt10\">\\n                <img src=\"/gw/r/cms/www/learn_new/img/qr_code-jdsy.jpg\" alt=\"\">\\n              </div>\\n              <div class=\"mt10\">\\n                <span>\\xe5\\xad\\xa6\\xe4\\xb9\\xa0\\xe4\\xb8\\xad\\xe5\\xbf\\x83\\xe5\\xbe\\xae\\xe4\\xbf\\xa1\\xe5\\x85\\xac\\xe4\\xbc\\x97\\xe5\\x8f\\xb7</span>\\n              </div>\\n            </div>\\n            <div class=\"qr-code\">\\n              <div class=\"mt10\">\\n                <img src=\"/gw/r/cms/www/learn_new/img/qr_code-jzt.jpg\" alt=\"\">\\n              </div>\\n              <div class=\"mt10\">\\n                <span>\\xe4\\xba\\xac\\xe5\\x87\\x86\\xe9\\x80\\x9a\\xe5\\xbe\\xae\\xe4\\xbf\\xa1\\xe8\\xae\\xa2\\xe9\\x98\\x85\\xe5\\x8f\\xb7</span>\\n              </div>\\n            </div>\\n          </div>\\n        </div>\\n      </div>\\n    </div>\\n  </div>\\n  <div class=\"footer-copyright\">\\n    <div class=\"footer-line\"></div>\\n    <p class=\"footer-bq\">Copyright 2004-2018 \\xe4\\xba\\xac\\xe4\\xb8\\x9cJD.com \\xe7\\x89\\x88\\xe6\\x9d\\x83\\xe6\\x89\\x80\\xe6\\x9c\\x89</p>\\n  </div> \\n</div>\\n<!-- \\xe5\\x8f\\x8b\\xe6\\x83\\x85\\xe9\\x93\\xbe\\xe6\\x8e\\xa5\\xe7\\xbb\\x93\\xe6\\x9d\\x9f -->\\n<script type=\"text/javascript\">\\n   var jaq = jaq || [];\\n   jaq.push([\\'account\\',\\'JA2016_113525\\']);\\n   jaq.push([\\'domain\\',\\'jzt.jd.com\\']);\\njaq.push([\\'topic\\',\\'traffic-oth\\']); //topic\\n   (function() {\\n    var ja = document.createElement(\\'script\\'); ja.type = \\'text/javascript\\'; ja.async = true;\\n    ja.src = (\\'https:\\' == document.location.protocol ? \\'https://wlssl\\' : \\'http://wl\\') + \\'.jd.com/joya.js\\';\\n    var s = document.getElementsByTagName(\\'script\\')[0]; s.parentNode.insertBefore(ja, s);\\n   })();\\n</script>\\n<script>\\n    (function(){\\n        var bp = document.createElement(\\'script\\');\\n        var curProtocol = window.location.protocol.split(\\':\\')[0];\\n        if (curProtocol === \\'https\\') {\\n            bp.src = \\'https://zz.bdstatic.com/linksubmit/push.js\\';\\n        }\\n        else {\\n            bp.src = \\'http://push.zhanzhang.baidu.com/push.js\\';\\n        }\\n        var s = document.getElementsByTagName(\"script\")[0];\\n        s.parentNode.insertBefore(bp, s);\\n    })();\\n</script>\\n\\n\\n<!-- \\xe9\\xa1\\xb5\\xe5\\xb0\\xbe end-->\\n\\n</body>\\n</html>\\n'"
      ]
     },
     "execution_count": 18,
     "metadata": {},
     "output_type": "execute_result"
    }
   ],
   "source": [
    "response.content"
   ]
  }
 ],
 "metadata": {
  "kernelspec": {
   "display_name": "Python 3",
   "language": "python",
   "name": "python3"
  },
  "language_info": {
   "codemirror_mode": {
    "name": "ipython",
    "version": 3
   },
   "file_extension": ".py",
   "mimetype": "text/x-python",
   "name": "python",
   "nbconvert_exporter": "python",
   "pygments_lexer": "ipython3",
   "version": "3.6.4"
  }
 },
 "nbformat": 4,
 "nbformat_minor": 2
}
